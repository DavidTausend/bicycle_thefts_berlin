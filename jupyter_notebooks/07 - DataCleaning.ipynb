{
 "cells": [
  {
   "cell_type": "markdown",
   "metadata": {},
   "source": [
    "# Initial Data Load and Inspection\n",
    "\n",
    "## Objectives:\n",
    "- Load the train and test datasets.\n",
    "- Inspect column data types.\n",
    "- Check for missing values.\n",
    "- Verify column alignment between train and test datasets.\n",
    "- Identify unique values in the target column.\n",
    "- Check for duplicate rows."
   ]
  },
  {
   "cell_type": "markdown",
   "metadata": {},
   "source": [
    " 1. Import Libraries and Define Paths"
   ]
  },
  {
   "cell_type": "code",
   "execution_count": 3,
   "metadata": {},
   "outputs": [],
   "source": [
    "import pandas as pd\n",
    "import streamlit as st  # Streamlit can be used for testing output interactively.\n",
    "\n",
    "# Define file paths\n",
    "train_data_path = '/workspace/bicycle_thefts_berlin/outputs/datasets/featured/TrainSet_Featured.csv'\n",
    "test_data_path = '/workspace/bicycle_thefts_berlin/outputs/datasets/featured/TestSet_Featured.csv'"
   ]
  },
  {
   "cell_type": "markdown",
   "metadata": {},
   "source": [
    "2. Load Datasets"
   ]
  },
  {
   "cell_type": "code",
   "execution_count": 4,
   "metadata": {},
   "outputs": [
    {
     "name": "stdout",
     "output_type": "stream",
     "text": [
      "Train and test data loaded successfully.\n"
     ]
    },
    {
     "name": "stderr",
     "output_type": "stream",
     "text": [
      "/tmp/ipykernel_2586/372555736.py:2: DtypeWarning: Columns (4) have mixed types. Specify dtype option on import or set low_memory=False.\n",
      "  train_data = pd.read_csv(train_data_path)\n"
     ]
    }
   ],
   "source": [
    "try:\n",
    "    train_data = pd.read_csv(train_data_path)\n",
    "    test_data = pd.read_csv(test_data_path)\n",
    "    print(\"Train and test data loaded successfully.\")\n",
    "except Exception as e:\n",
    "    print(f\"Error loading data: {e}\")"
   ]
  },
  {
   "cell_type": "markdown",
   "metadata": {},
   "source": [
    "3. Display Data Overview"
   ]
  },
  {
   "cell_type": "code",
   "execution_count": 5,
   "metadata": {},
   "outputs": [
    {
     "name": "stdout",
     "output_type": "stream",
     "text": [
      "### Train Data Overview:\n",
      "  ANGELEGT_AM  TATZEIT_ANFANG_STUNDE TATZEIT_ENDE_DATUM  TATZEIT_ENDE_STUNDE  \\\n",
      "0  2023-05-04               0.812322         2023-05-04                   11   \n",
      "1  2023-08-09               1.371716         2023-08-09                    7   \n",
      "2  2022-05-02               0.252928         2022-05-02                   16   \n",
      "3  2023-10-11               0.066463         2023-07-03                   14   \n",
      "4  2022-09-05              -0.865860         2022-09-05                   15   \n",
      "\n",
      "  VERSUCH                               ERFASSUNGSGRUND  \\\n",
      "0       0  Sonstiger schwerer Diebstahl von FahrrÃ¤dern   \n",
      "1       0  Sonstiger schwerer Diebstahl von FahrrÃ¤dern   \n",
      "2       0  Sonstiger schwerer Diebstahl von FahrrÃ¤dern   \n",
      "3       0  Sonstiger schwerer Diebstahl von FahrrÃ¤dern   \n",
      "4       0  Sonstiger schwerer Diebstahl von FahrrÃ¤dern   \n",
      "\n",
      "   ART_DES_FAHRRADS_Fahrrad  ART_DES_FAHRRADS_Herrenfahrrad  \\\n",
      "0                     False                            True   \n",
      "1                     False                            True   \n",
      "2                     False                           False   \n",
      "3                     False                           False   \n",
      "4                      True                           False   \n",
      "\n",
      "   ART_DES_FAHRRADS_Kinderfahrrad  ART_DES_FAHRRADS_Lastenfahrrad  \\\n",
      "0                           False                           False   \n",
      "1                           False                           False   \n",
      "2                           False                           False   \n",
      "3                           False                           False   \n",
      "4                           False                           False   \n",
      "\n",
      "   ART_DES_FAHRRADS_Mountainbike  ART_DES_FAHRRADS_Rennrad  \\\n",
      "0                          False                     False   \n",
      "1                          False                     False   \n",
      "2                          False                     False   \n",
      "3                           True                     False   \n",
      "4                          False                     False   \n",
      "\n",
      "   ART_DES_FAHRRADS_diverse FahrrÃ¤der  DELIKT_Keller- und Bodeneinbruch  \\\n",
      "0                                False                             False   \n",
      "1                                False                             False   \n",
      "2                                False                             False   \n",
      "3                                False                             False   \n",
      "4                                False                             False   \n",
      "\n",
      "   TATZEIT_ANFANG_YEAR  TATZEIT_ANFANG_MONTH  \n",
      "0                 2023                     5  \n",
      "1                 2023                     8  \n",
      "2                 2022                     5  \n",
      "3                 2023                     7  \n",
      "4                 2022                     9  \n",
      "### Test Data Overview:\n",
      "  ANGELEGT_AM  TATZEIT_ANFANG_STUNDE TATZEIT_ENDE_DATUM  TATZEIT_ENDE_STUNDE  \\\n",
      "0  2022-03-10               0.252928         2022-03-10                   17   \n",
      "1  2022-03-07              -1.238789         2022-03-06                   14   \n",
      "2  2022-05-12               0.998786         2022-05-11                    7   \n",
      "3  2023-07-15               1.185251         2023-07-15                    3   \n",
      "4  2022-05-16               0.439393         2022-05-16                   17   \n",
      "\n",
      "  VERSUCH                                    ERFASSUNGSGRUND  \\\n",
      "0       0       Sonstiger schwerer Diebstahl von FahrrÃ¤dern   \n",
      "1       0       Sonstiger schwerer Diebstahl von FahrrÃ¤dern   \n",
      "2       0       Sonstiger schwerer Diebstahl von FahrrÃ¤dern   \n",
      "3       0       Sonstiger schwerer Diebstahl von FahrrÃ¤dern   \n",
      "4       0  Sonstiger schwerer Diebstahl in/aus Keller/Bod...   \n",
      "\n",
      "   ART_DES_FAHRRADS_Fahrrad  ART_DES_FAHRRADS_Herrenfahrrad  \\\n",
      "0                     False                           False   \n",
      "1                     False                           False   \n",
      "2                      True                           False   \n",
      "3                     False                           False   \n",
      "4                     False                           False   \n",
      "\n",
      "   ART_DES_FAHRRADS_Kinderfahrrad  ART_DES_FAHRRADS_Lastenfahrrad  \\\n",
      "0                           False                           False   \n",
      "1                           False                           False   \n",
      "2                           False                           False   \n",
      "3                           False                           False   \n",
      "4                           False                           False   \n",
      "\n",
      "   ART_DES_FAHRRADS_Mountainbike  ART_DES_FAHRRADS_Rennrad  \\\n",
      "0                          False                     False   \n",
      "1                          False                     False   \n",
      "2                          False                     False   \n",
      "3                          False                     False   \n",
      "4                          False                      True   \n",
      "\n",
      "   ART_DES_FAHRRADS_diverse FahrrÃ¤der  DELIKT_Keller- und Bodeneinbruch  \\\n",
      "0                                False                             False   \n",
      "1                                False                             False   \n",
      "2                                False                             False   \n",
      "3                                False                             False   \n",
      "4                                False                              True   \n",
      "\n",
      "   TATZEIT_ANFANG_YEAR  TATZEIT_ANFANG_MONTH  \n",
      "0                 2022                     3  \n",
      "1                 2022                     3  \n",
      "2                 2022                     5  \n",
      "3                 2023                     7  \n",
      "4                 2022                     5  \n"
     ]
    }
   ],
   "source": [
    "print(\"### Train Data Overview:\")\n",
    "print(train_data.head())\n",
    "\n",
    "print(\"### Test Data Overview:\")\n",
    "print(test_data.head())"
   ]
  },
  {
   "cell_type": "markdown",
   "metadata": {},
   "source": [
    "4. Check Data Types"
   ]
  },
  {
   "cell_type": "code",
   "execution_count": 6,
   "metadata": {},
   "outputs": [
    {
     "name": "stdout",
     "output_type": "stream",
     "text": [
      "### Data Types:\n",
      "ANGELEGT_AM                             object\n",
      "TATZEIT_ANFANG_STUNDE                  float64\n",
      "TATZEIT_ENDE_DATUM                      object\n",
      "TATZEIT_ENDE_STUNDE                      int64\n",
      "VERSUCH                                 object\n",
      "ERFASSUNGSGRUND                         object\n",
      "ART_DES_FAHRRADS_Fahrrad                  bool\n",
      "ART_DES_FAHRRADS_Herrenfahrrad            bool\n",
      "ART_DES_FAHRRADS_Kinderfahrrad            bool\n",
      "ART_DES_FAHRRADS_Lastenfahrrad            bool\n",
      "ART_DES_FAHRRADS_Mountainbike             bool\n",
      "ART_DES_FAHRRADS_Rennrad                  bool\n",
      "ART_DES_FAHRRADS_diverse FahrrÃ¤der       bool\n",
      "DELIKT_Keller- und Bodeneinbruch          bool\n",
      "TATZEIT_ANFANG_YEAR                      int64\n",
      "TATZEIT_ANFANG_MONTH                     int64\n",
      "dtype: object\n"
     ]
    }
   ],
   "source": [
    "print(\"### Data Types:\")\n",
    "print(train_data.dtypes)"
   ]
  },
  {
   "cell_type": "markdown",
   "metadata": {},
   "source": [
    "5. Check Missing Values"
   ]
  },
  {
   "cell_type": "code",
   "execution_count": 7,
   "metadata": {},
   "outputs": [
    {
     "name": "stdout",
     "output_type": "stream",
     "text": [
      "### Missing Values in Train Data:\n",
      "ANGELEGT_AM                            0\n",
      "TATZEIT_ANFANG_STUNDE                  0\n",
      "TATZEIT_ENDE_DATUM                     0\n",
      "TATZEIT_ENDE_STUNDE                    0\n",
      "VERSUCH                                0\n",
      "ERFASSUNGSGRUND                        0\n",
      "ART_DES_FAHRRADS_Fahrrad               0\n",
      "ART_DES_FAHRRADS_Herrenfahrrad         0\n",
      "ART_DES_FAHRRADS_Kinderfahrrad         0\n",
      "ART_DES_FAHRRADS_Lastenfahrrad         0\n",
      "ART_DES_FAHRRADS_Mountainbike          0\n",
      "ART_DES_FAHRRADS_Rennrad               0\n",
      "ART_DES_FAHRRADS_diverse FahrrÃ¤der    0\n",
      "DELIKT_Keller- und Bodeneinbruch       0\n",
      "TATZEIT_ANFANG_YEAR                    0\n",
      "TATZEIT_ANFANG_MONTH                   0\n",
      "dtype: int64\n",
      "### Missing Values in Test Data:\n",
      "ANGELEGT_AM                            0\n",
      "TATZEIT_ANFANG_STUNDE                  0\n",
      "TATZEIT_ENDE_DATUM                     0\n",
      "TATZEIT_ENDE_STUNDE                    0\n",
      "VERSUCH                                0\n",
      "ERFASSUNGSGRUND                        0\n",
      "ART_DES_FAHRRADS_Fahrrad               0\n",
      "ART_DES_FAHRRADS_Herrenfahrrad         0\n",
      "ART_DES_FAHRRADS_Kinderfahrrad         0\n",
      "ART_DES_FAHRRADS_Lastenfahrrad         0\n",
      "ART_DES_FAHRRADS_Mountainbike          0\n",
      "ART_DES_FAHRRADS_Rennrad               0\n",
      "ART_DES_FAHRRADS_diverse FahrrÃ¤der    0\n",
      "DELIKT_Keller- und Bodeneinbruch       0\n",
      "TATZEIT_ANFANG_YEAR                    0\n",
      "TATZEIT_ANFANG_MONTH                   0\n",
      "dtype: int64\n"
     ]
    }
   ],
   "source": [
    "print(\"### Missing Values in Train Data:\")\n",
    "print(train_data.isnull().sum())\n",
    "\n",
    "print(\"### Missing Values in Test Data:\")\n",
    "print(test_data.isnull().sum())"
   ]
  },
  {
   "cell_type": "markdown",
   "metadata": {},
   "source": [
    "6. Ensure Column Alignment"
   ]
  },
  {
   "cell_type": "code",
   "execution_count": 8,
   "metadata": {},
   "outputs": [
    {
     "name": "stdout",
     "output_type": "stream",
     "text": [
      "Train and test datasets have matching columns.\n"
     ]
    }
   ],
   "source": [
    "if set(train_data.columns) == set(test_data.columns):\n",
    "    print(\"Train and test datasets have matching columns.\")\n",
    "else:\n",
    "    print(\"Train and test datasets do not have matching columns!\")\n",
    "    print(\"Columns in Train Data:\", train_data.columns)\n",
    "    print(\"Columns in Test Data:\", test_data.columns)"
   ]
  },
  {
   "cell_type": "markdown",
   "metadata": {},
   "source": [
    "7. Unique Values in Target Column"
   ]
  },
  {
   "cell_type": "code",
   "execution_count": 9,
   "metadata": {},
   "outputs": [
    {
     "name": "stdout",
     "output_type": "stream",
     "text": [
      "### Unique values in the target column `VERSUCH`:\n",
      "['0' '1' 'Unbekannt' 0 1]\n"
     ]
    }
   ],
   "source": [
    "TARGET_COLUMN = 'VERSUCH'\n",
    "if TARGET_COLUMN in train_data.columns:\n",
    "    print(f\"### Unique values in the target column `{TARGET_COLUMN}`:\")\n",
    "    print(train_data[TARGET_COLUMN].unique())\n",
    "else:\n",
    "    print(f\"Target column `{TARGET_COLUMN}` not found in train data.\")"
   ]
  },
  {
   "cell_type": "markdown",
   "metadata": {},
   "source": [
    "8. Check for Duplicate Rows"
   ]
  },
  {
   "cell_type": "code",
   "execution_count": 10,
   "metadata": {},
   "outputs": [
    {
     "name": "stdout",
     "output_type": "stream",
     "text": [
      "### Duplicate Rows in Train Data:\n",
      "566\n",
      "### Duplicate Rows in Test Data:\n",
      "40\n"
     ]
    }
   ],
   "source": [
    "print(\"### Duplicate Rows in Train Data:\")\n",
    "print(train_data.duplicated().sum())\n",
    "\n",
    "print(\"### Duplicate Rows in Test Data:\")\n",
    "print(test_data.duplicated().sum())"
   ]
  }
 ],
 "metadata": {
  "kernelspec": {
   "display_name": "Python 3",
   "language": "python",
   "name": "python3"
  },
  "language_info": {
   "codemirror_mode": {
    "name": "ipython",
    "version": 3
   },
   "file_extension": ".py",
   "mimetype": "text/x-python",
   "name": "python",
   "nbconvert_exporter": "python",
   "pygments_lexer": "ipython3",
   "version": "3.12.7"
  }
 },
 "nbformat": 4,
 "nbformat_minor": 2
}
