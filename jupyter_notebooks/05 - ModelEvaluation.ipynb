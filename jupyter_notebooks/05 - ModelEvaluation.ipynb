{
 "cells": [
  {
   "cell_type": "markdown",
   "metadata": {},
   "source": [
    "# Model Evaluation\n",
    "\n",
    "## Objectives:\n",
    "- Perform cross-validation for all trained models.\n",
    "- Evaluate models on unseen data using accuracy, precision, recall, and F1-score.\n",
    "- Visualize model performance for comparison."
   ]
  },
  {
   "cell_type": "markdown",
   "metadata": {},
   "source": [
    "1. Import Libraries"
   ]
  },
  {
   "cell_type": "code",
   "execution_count": 1,
   "metadata": {},
   "outputs": [],
   "source": [
    "# Import necessary libraries\n",
    "import pandas as pd\n",
    "import numpy as np\n",
    "from sklearn.metrics import accuracy_score, f1_score, precision_score, recall_score, classification_report\n",
    "from sklearn.model_selection import cross_val_score, cross_validate\n",
    "import matplotlib.pyplot as plt\n",
    "import seaborn as sns\n",
    "import joblib"
   ]
  },
  {
   "cell_type": "markdown",
   "metadata": {},
   "source": []
  },
  {
   "cell_type": "markdown",
   "metadata": {},
   "source": [
    "2. Load Data and Trained Models"
   ]
  },
  {
   "cell_type": "code",
   "execution_count": 2,
   "metadata": {},
   "outputs": [
    {
     "name": "stdout",
     "output_type": "stream",
     "text": [
      "Loading data...\n",
      "File path verified. Loading test data...\n",
      "Test data loaded successfully.\n",
      "Test data head:\n",
      "  ANGELEGT_AM  TATZEIT_ANFANG_STUNDE TATZEIT_ENDE_DATUM  TATZEIT_ENDE_STUNDE  \\\n",
      "0  2022-03-10               0.252928         2022-03-10                   17   \n",
      "1  2022-03-07              -1.238789         2022-03-06                   14   \n",
      "2  2022-05-12               0.998786         2022-05-11                    7   \n",
      "3  2023-07-15               1.185251         2023-07-15                    3   \n",
      "4  2022-05-16               0.439393         2022-05-16                   17   \n",
      "\n",
      "  VERSUCH                                    ERFASSUNGSGRUND  \\\n",
      "0       0       Sonstiger schwerer Diebstahl von FahrrÃ¤dern   \n",
      "1       0       Sonstiger schwerer Diebstahl von FahrrÃ¤dern   \n",
      "2       0       Sonstiger schwerer Diebstahl von FahrrÃ¤dern   \n",
      "3       0       Sonstiger schwerer Diebstahl von FahrrÃ¤dern   \n",
      "4       0  Sonstiger schwerer Diebstahl in/aus Keller/Bod...   \n",
      "\n",
      "   ART_DES_FAHRRADS_Fahrrad  ART_DES_FAHRRADS_Herrenfahrrad  \\\n",
      "0                     False                           False   \n",
      "1                     False                           False   \n",
      "2                      True                           False   \n",
      "3                     False                           False   \n",
      "4                     False                           False   \n",
      "\n",
      "   ART_DES_FAHRRADS_Kinderfahrrad  ART_DES_FAHRRADS_Lastenfahrrad  \\\n",
      "0                           False                           False   \n",
      "1                           False                           False   \n",
      "2                           False                           False   \n",
      "3                           False                           False   \n",
      "4                           False                           False   \n",
      "\n",
      "   ART_DES_FAHRRADS_Mountainbike  ART_DES_FAHRRADS_Rennrad  \\\n",
      "0                          False                     False   \n",
      "1                          False                     False   \n",
      "2                          False                     False   \n",
      "3                          False                     False   \n",
      "4                          False                      True   \n",
      "\n",
      "   ART_DES_FAHRRADS_diverse FahrrÃ¤der  DELIKT_Keller- und Bodeneinbruch  \\\n",
      "0                                False                             False   \n",
      "1                                False                             False   \n",
      "2                                False                             False   \n",
      "3                                False                             False   \n",
      "4                                False                              True   \n",
      "\n",
      "   TATZEIT_ANFANG_YEAR  TATZEIT_ANFANG_MONTH  \n",
      "0                 2022                     3  \n",
      "1                 2022                     3  \n",
      "2                 2022                     5  \n",
      "3                 2023                     7  \n",
      "4                 2022                     5  \n",
      "X_test shape: (8628, 15)\n",
      "y_test shape: (8628,)\n",
      "Loading trained models...\n",
      "Logistic Regression model loaded.\n",
      "Random Forest model loaded.\n",
      "SVM model loaded.\n",
      "K-Nearest Neighbors model loaded.\n"
     ]
    }
   ],
   "source": [
    "print(\"Loading data...\")\n",
    "\n",
    "import os\n",
    "import pandas as pd\n",
    "\n",
    "# Define the file path\n",
    "file_path = '/workspace/bicycle_thefts_berlin/outputs/datasets/featured/TestSet_Featured.csv'\n",
    "\n",
    "# Verify and load the file\n",
    "if os.path.exists(file_path):\n",
    "    print(\"File path verified. Loading test data...\")\n",
    "    test_data = pd.read_csv(file_path)\n",
    "    print(\"Test data loaded successfully.\")\n",
    "else:\n",
    "    print(f\"Error: File not found at {file_path}\")\n",
    "\n",
    "# Verify the data structure\n",
    "print(\"Test data head:\")\n",
    "print(test_data.head())\n",
    "\n",
    "# Specify the target column\n",
    "TARGET_COLUMN = 'VERSUCH'  # Ensure this matches the target column in your dataset\n",
    "\n",
    "# Separate features and target\n",
    "X_test = test_data.drop(columns=[TARGET_COLUMN])\n",
    "y_test = test_data[TARGET_COLUMN]\n",
    "\n",
    "# Confirm data shape\n",
    "print(\"X_test shape:\", X_test.shape)\n",
    "print(\"y_test shape:\", y_test.shape)\n",
    "\n",
    "print(\"Loading trained models...\")\n",
    "\n",
    "logistic_model_path = '/workspace/bicycle_thefts_berlin/jupyter_notebooks/Logistic Regression_model.pkl'\n",
    "random_forest_model_path = '/workspace/bicycle_thefts_berlin/jupyter_notebooks/Random Forest_model.pkl'\n",
    "svm_model_path = '/workspace/bicycle_thefts_berlin/jupyter_notebooks/SVM_model.pkl'\n",
    "knn_model_path = '/workspace/bicycle_thefts_berlin/jupyter_notebooks/K-Nearest Neighbors_model.pkl'\n",
    "\n",
    "# Load the models\n",
    "if os.path.exists(logistic_model_path):\n",
    "    logistic_model = joblib.load(logistic_model_path)\n",
    "    print(\"Logistic Regression model loaded.\")\n",
    "else:\n",
    "    print(f\"Error: Logistic Regression model not found at {logistic_model_path}\")\n",
    "\n",
    "if os.path.exists(random_forest_model_path):\n",
    "    random_forest_model = joblib.load(random_forest_model_path)\n",
    "    print(\"Random Forest model loaded.\")\n",
    "else:\n",
    "    print(f\"Error: Random Forest model not found at {random_forest_model_path}\")\n",
    "\n",
    "if os.path.exists(svm_model_path):\n",
    "    svm_model = joblib.load(svm_model_path)\n",
    "    print(\"SVM model loaded.\")\n",
    "else:\n",
    "    print(f\"Error: SVM model not found at {svm_model_path}\")\n",
    "\n",
    "if os.path.exists(knn_model_path):\n",
    "    knn_model = joblib.load(knn_model_path)\n",
    "    print(\"K-Nearest Neighbors model loaded.\")\n",
    "else:\n",
    "    print(f\"Error: K-Nearest Neighbors model not found at {knn_model_path}\")\n"
   ]
  },
  {
   "cell_type": "markdown",
   "metadata": {},
   "source": [
    "3. Evaluate Models on Test Data"
   ]
  },
  {
   "cell_type": "code",
   "execution_count": 5,
   "metadata": {},
   "outputs": [
    {
     "name": "stdout",
     "output_type": "stream",
     "text": [
      "Evaluating Models on Test Data...\n",
      "Found 1 NaN values in y_test. Dropping NaN values.\n",
      "Evaluating Logistic Regression...\n",
      "Logistic Regression -> Accuracy: 0.9976, F1 Score: 0.9964\n",
      "Evaluating Random Forest...\n",
      "Random Forest -> Accuracy: 0.9971, F1 Score: 0.9961\n",
      "Evaluating Support Vector Machine...\n",
      "Support Vector Machine -> Accuracy: 0.9976, F1 Score: 0.9964\n",
      "Evaluating K-Nearest Neighbors...\n",
      "K-Nearest Neighbors -> Accuracy: 0.9976, F1 Score: 0.9964\n",
      "\n",
      "Evaluation Results:\n",
      "Logistic Regression: {'accuracy': 0.9975657818476875, 'f1_score': np.float64(0.9963501559312016)}\n",
      "Random Forest: {'accuracy': 0.9971021212472471, 'f1_score': np.float64(0.9961182721520468)}\n",
      "Support Vector Machine: {'accuracy': 0.9975657818476875, 'f1_score': np.float64(0.9963501559312016)}\n",
      "K-Nearest Neighbors: {'accuracy': 0.9975657818476875, 'f1_score': np.float64(0.9963501559312016)}\n",
      "Evaluation results saved to 'outputs/evaluation_results.csv'.\n"
     ]
    }
   ],
   "source": [
    "import os\n",
    "import pandas as pd\n",
    "from sklearn.metrics import accuracy_score, f1_score\n",
    "from sklearn.exceptions import NotFittedError\n",
    "\n",
    "print(\"Evaluating Models on Test Data...\")\n",
    "\n",
    "# Ensure that y_test has consistent data types (convert to numeric)\n",
    "if y_test.dtype == 'object':\n",
    "    y_test = pd.to_numeric(y_test, errors='coerce')\n",
    "    print(\"Converted y_test to numeric.\")\n",
    "\n",
    "# Handle NaN values in y_test\n",
    "if y_test.isnull().sum() > 0:\n",
    "    print(f\"Found {y_test.isnull().sum()} NaN values in y_test. Dropping NaN values.\")\n",
    "    valid_indices = y_test.dropna().index\n",
    "    X_test = X_test.loc[valid_indices]\n",
    "    y_test = y_test.loc[valid_indices]\n",
    "\n",
    "# Align features in X_test with the features used during model training\n",
    "if hasattr(logistic_model, 'feature_names_in_'):\n",
    "    train_features = logistic_model.feature_names_in_\n",
    "    X_test_aligned = X_test.reindex(columns=train_features, fill_value=0)\n",
    "else:\n",
    "    X_test_aligned = X_test.copy()\n",
    "\n",
    "# Define models dictionary\n",
    "models = {\n",
    "    'Logistic Regression': logistic_model,\n",
    "    'Random Forest': random_forest_model,\n",
    "    'Support Vector Machine': svm_model,\n",
    "    'K-Nearest Neighbors': knn_model\n",
    "}\n",
    "\n",
    "# Dictionary to store evaluation results\n",
    "evaluation_results = {}\n",
    "\n",
    "# Evaluate each model\n",
    "for model_name, model in models.items():\n",
    "    try:\n",
    "        print(f\"Evaluating {model_name}...\")\n",
    "\n",
    "        # Predict on the aligned test set\n",
    "        y_pred = model.predict(X_test_aligned)\n",
    "\n",
    "        # Ensure y_pred is numeric if y_test is numeric\n",
    "        if y_test.dtype in ['int64', 'float64']:\n",
    "            y_pred = pd.to_numeric(y_pred, errors='coerce')\n",
    "\n",
    "        # Calculate metrics\n",
    "        accuracy = accuracy_score(y_test, y_pred)\n",
    "        f1 = f1_score(y_test, y_pred, average='weighted')\n",
    "\n",
    "        # Store results\n",
    "        evaluation_results[model_name] = {\n",
    "            'accuracy': accuracy,\n",
    "            'f1_score': f1\n",
    "        }\n",
    "        print(f\"{model_name} -> Accuracy: {accuracy:.4f}, F1 Score: {f1:.4f}\")\n",
    "\n",
    "    except ValueError as ve:\n",
    "        print(f\"ValueError evaluating {model_name}: {ve}\")\n",
    "    except NotFittedError as nfe:\n",
    "        print(f\"NotFittedError evaluating {model_name}: {nfe}\")\n",
    "    except Exception as e:\n",
    "        print(f\"Error evaluating {model_name}: {e}\")\n",
    "\n",
    "# Print evaluation results\n",
    "print(\"\\nEvaluation Results:\")\n",
    "for model_name, metrics in evaluation_results.items():\n",
    "    print(f\"{model_name}: {metrics}\")\n",
    "\n",
    "# Save evaluation results to a CSV file\n",
    "results_df = pd.DataFrame(evaluation_results).T\n",
    "results_dir = 'outputs'\n",
    "\n",
    "# Create directory if it doesn't exist\n",
    "if not os.path.exists(results_dir):\n",
    "    os.makedirs(results_dir)\n",
    "\n",
    "results_path = os.path.join(results_dir, 'evaluation_results.csv')\n",
    "results_df.to_csv(results_path, index=True)\n",
    "print(f\"Evaluation results saved to '{results_path}'.\")\n"
   ]
  },
  {
   "cell_type": "markdown",
   "metadata": {},
   "source": [
    "4. Evaluation Results Summary"
   ]
  },
  {
   "cell_type": "code",
   "execution_count": 6,
   "metadata": {},
   "outputs": [
    {
     "name": "stdout",
     "output_type": "stream",
     "text": [
      "\n",
      "Final Evaluation Results:\n",
      "                        accuracy  f1_score\n",
      "Logistic Regression     0.997566  0.996350\n",
      "Random Forest           0.997102  0.996118\n",
      "Support Vector Machine  0.997566  0.996350\n",
      "K-Nearest Neighbors     0.997566  0.996350\n",
      "Evaluation results saved to outputs/evaluation/final_evaluation_results.csv.\n"
     ]
    }
   ],
   "source": [
    "# Summarize Evaluation Results\n",
    "print(\"\\nFinal Evaluation Results:\")\n",
    "results_df = pd.DataFrame(evaluation_results).T\n",
    "print(results_df)\n",
    "\n",
    "# Save Evaluation Results to CSV\n",
    "results_dir = 'outputs/evaluation'\n",
    "if not os.path.exists(results_dir):\n",
    "    os.makedirs(results_dir)\n",
    "\n",
    "results_file = os.path.join(results_dir, 'final_evaluation_results.csv')\n",
    "results_df.to_csv(results_file, index=True)\n",
    "print(f\"Evaluation results saved to {results_file}.\")"
   ]
  },
  {
   "cell_type": "markdown",
   "metadata": {},
   "source": [
    "5. Model Comparison and Selection\n",
    "Compare the evaluation results (accuracy and F1-score) to determine the best-performing model."
   ]
  },
  {
   "cell_type": "code",
   "execution_count": 7,
   "metadata": {},
   "outputs": [
    {
     "name": "stdout",
     "output_type": "stream",
     "text": [
      "\n",
      "Best Model: Logistic Regression\n",
      "Performance:\n",
      "accuracy    0.997566\n",
      "f1_score    0.996350\n",
      "Name: Logistic Regression, dtype: float64\n"
     ]
    }
   ],
   "source": [
    "# Identify the best model based on accuracy and F1-score\n",
    "best_model_name = results_df['accuracy'].idxmax()\n",
    "best_model_performance = results_df.loc[best_model_name]\n",
    "\n",
    "print(f\"\\nBest Model: {best_model_name}\")\n",
    "print(f\"Performance:\\n{best_model_performance}\")"
   ]
  },
  {
   "cell_type": "markdown",
   "metadata": {},
   "source": [
    "6. Save the Best Model\n",
    "Save the best-performing model for deployment or further analysis"
   ]
  },
  {
   "cell_type": "code",
   "execution_count": 8,
   "metadata": {},
   "outputs": [
    {
     "name": "stdout",
     "output_type": "stream",
     "text": [
      "Best model saved to outputs/evaluation/Logistic Regression_best_model.pkl.\n"
     ]
    }
   ],
   "source": [
    "# Save the best model\n",
    "best_model = models[best_model_name]\n",
    "best_model_file = os.path.join(results_dir, f'{best_model_name}_best_model.pkl')\n",
    "\n",
    "joblib.dump(best_model, best_model_file)\n",
    "print(f\"Best model saved to {best_model_file}.\")"
   ]
  },
  {
   "cell_type": "markdown",
   "metadata": {},
   "source": [
    "7. Classification Report\n",
    "Generate a detailed classification report for the best-performing model."
   ]
  },
  {
   "cell_type": "code",
   "execution_count": 10,
   "metadata": {},
   "outputs": [
    {
     "name": "stdout",
     "output_type": "stream",
     "text": [
      "\n",
      "Classification Report for Logistic Regression:\n",
      "\n",
      "              precision    recall  f1-score   support\n",
      "\n",
      "         0.0       1.00      1.00      1.00      8606\n",
      "         1.0       0.00      0.00      0.00        21\n",
      "\n",
      "    accuracy                           1.00      8627\n",
      "   macro avg       0.50      0.50      0.50      8627\n",
      "weighted avg       1.00      1.00      1.00      8627\n",
      "\n",
      "Classification report saved to outputs/evaluation/Logistic Regression_classification_report.txt.\n"
     ]
    },
    {
     "name": "stderr",
     "output_type": "stream",
     "text": [
      "/workspace/.pyenv_mirror/user/current/lib/python3.12/site-packages/sklearn/metrics/_classification.py:1531: UndefinedMetricWarning: Precision is ill-defined and being set to 0.0 in labels with no predicted samples. Use `zero_division` parameter to control this behavior.\n",
      "  _warn_prf(average, modifier, f\"{metric.capitalize()} is\", len(result))\n",
      "/workspace/.pyenv_mirror/user/current/lib/python3.12/site-packages/sklearn/metrics/_classification.py:1531: UndefinedMetricWarning: Precision is ill-defined and being set to 0.0 in labels with no predicted samples. Use `zero_division` parameter to control this behavior.\n",
      "  _warn_prf(average, modifier, f\"{metric.capitalize()} is\", len(result))\n",
      "/workspace/.pyenv_mirror/user/current/lib/python3.12/site-packages/sklearn/metrics/_classification.py:1531: UndefinedMetricWarning: Precision is ill-defined and being set to 0.0 in labels with no predicted samples. Use `zero_division` parameter to control this behavior.\n",
      "  _warn_prf(average, modifier, f\"{metric.capitalize()} is\", len(result))\n"
     ]
    }
   ],
   "source": [
    "from sklearn.metrics import classification_report\n",
    "\n",
    "# Generate predictions using the best model\n",
    "y_pred_best = best_model.predict(X_test_aligned)\n",
    "\n",
    "# Create and print the classification report\n",
    "classification_report_best = classification_report(y_test, y_pred_best)\n",
    "print(f\"\\nClassification Report for {best_model_name}:\\n\")\n",
    "print(classification_report_best)\n",
    "\n",
    "# Save the classification report to a text file\n",
    "classification_report_file = os.path.join(results_dir, f'{best_model_name}_classification_report.txt')\n",
    "with open(classification_report_file, 'w') as f:\n",
    "    f.write(f\"Classification Report for {best_model_name}:\\n\")\n",
    "    f.write(classification_report_best)\n",
    "print(f\"Classification report saved to {classification_report_file}.\")"
   ]
  }
 ],
 "metadata": {
  "kernelspec": {
   "display_name": "Python 3",
   "language": "python",
   "name": "python3"
  },
  "language_info": {
   "codemirror_mode": {
    "name": "ipython",
    "version": 3
   },
   "file_extension": ".py",
   "mimetype": "text/x-python",
   "name": "python",
   "nbconvert_exporter": "python",
   "pygments_lexer": "ipython3",
   "version": "3.12.7"
  }
 },
 "nbformat": 4,
 "nbformat_minor": 2
}
