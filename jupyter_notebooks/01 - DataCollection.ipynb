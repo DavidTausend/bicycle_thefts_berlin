{
 "cells": [
  {
   "cell_type": "markdown",
   "metadata": {},
   "source": [
    "# Data Collection Notebook\n",
    "\n",
    "## Objectives\n",
    "- Fetch data from Kaggle and save it as raw data.\n",
    "- Inspect the data and save it under outputs/datasets/collection.\n",
    "\n",
    "## Inputs\n",
    "- Kaggle JSON file (authentication token).\n",
    "\n",
    "## Outputs\n",
    "- Generated Dataset: outputs/datasets/collection/Fahrraddiebstahl.csv.\n",
    "\n",
    "## Additional Comments\n",
    "- In the workplace, data often comes from multiple internal or external sources. For this learning project, we’re using Kaggle as the data source."
   ]
  },
  {
   "cell_type": "markdown",
   "metadata": {},
   "source": [
    "Steps to Implement the Notebook\n",
    "1. Install Python Packages"
   ]
  },
  {
   "cell_type": "code",
   "execution_count": 1,
   "metadata": {},
   "outputs": [
    {
     "name": "stdout",
     "output_type": "stream",
     "text": [
      "Requirement already satisfied: numpy==2.1.1 in /workspace/.pyenv_mirror/user/current/lib/python3.12/site-packages (from -r /workspace/bicycle_thefts_berlin/requirements.txt (line 1)) (2.1.1)\n",
      "Requirement already satisfied: pandas==2.2.3 in /workspace/.pyenv_mirror/user/current/lib/python3.12/site-packages (from -r /workspace/bicycle_thefts_berlin/requirements.txt (line 2)) (2.2.3)\n",
      "Requirement already satisfied: pytz==2024.2 in /workspace/.pyenv_mirror/user/current/lib/python3.12/site-packages (from -r /workspace/bicycle_thefts_berlin/requirements.txt (line 3)) (2024.2)\n",
      "Requirement already satisfied: tzdata==2024.1 in /workspace/.pyenv_mirror/user/current/lib/python3.12/site-packages (from -r /workspace/bicycle_thefts_berlin/requirements.txt (line 4)) (2024.1)\n",
      "Requirement already satisfied: python-dateutil>=2.8.2 in /home/gitpod/.pyenv/versions/3.12.6/lib/python3.12/site-packages (from pandas==2.2.3->-r /workspace/bicycle_thefts_berlin/requirements.txt (line 2)) (2.9.0.post0)\n",
      "Requirement already satisfied: six>=1.5 in /home/gitpod/.pyenv/versions/3.12.6/lib/python3.12/site-packages (from python-dateutil>=2.8.2->pandas==2.2.3->-r /workspace/bicycle_thefts_berlin/requirements.txt (line 2)) (1.16.0)\n",
      "Note: you may need to restart the kernel to use updated packages.\n"
     ]
    }
   ],
   "source": [
    "import subprocess\n",
    "\n",
    "# Install required Python packages\n",
    "subprocess.run(\n",
    "    [\n",
    "        \"pip\",\n",
    "        \"install\",\n",
    "        \"-r\",\n",
    "        \"/workspace/bicycle_thefts_berlin/requirements.txt\",\n",
    "    ],\n",
    "    check=True,\n",
    ")\n"
   ]
  },
  {
   "cell_type": "markdown",
   "metadata": {},
   "source": [
    "2. Change the Working Directory\n",
    "Before fetching the data, we need to change the working directory to ensure it is correctly set."
   ]
  },
  {
   "cell_type": "code",
   "execution_count": 2,
   "metadata": {},
   "outputs": [
    {
     "name": "stdout",
     "output_type": "stream",
     "text": [
      "Current directory: /workspace/bicycle_thefts_berlin/jupyter_notebooks\n",
      "New current directory: /workspace/bicycle_thefts_berlin\n"
     ]
    }
   ],
   "source": [
    "# Import os to interact with the operating system\n",
    "import os\n",
    "\n",
    "# Get the current directory\n",
    "current_dir = os.getcwd()\n",
    "print(f\"Current directory: {current_dir}\")\n",
    "\n",
    "# Set the parent directory as the new current directory\n",
    "os.chdir(os.path.dirname(current_dir))\n",
    "print(f\"New current directory: {os.getcwd()}\")\n"
   ]
  },
  {
   "cell_type": "markdown",
   "metadata": {},
   "source": [
    "3. Fetch Data from Kaggle\n",
    "First, install the Kaggle package for fetching data."
   ]
  },
  {
   "cell_type": "code",
   "execution_count": 3,
   "metadata": {},
   "outputs": [
    {
     "name": "stdout",
     "output_type": "stream",
     "text": [
      "Requirement already satisfied: kaggle==1.5.12 in /home/gitpod/.pyenv/versions/3.12.6/lib/python3.12/site-packages (1.5.12)\n",
      "Requirement already satisfied: six>=1.10 in /home/gitpod/.pyenv/versions/3.12.6/lib/python3.12/site-packages (from kaggle==1.5.12) (1.16.0)\n",
      "Requirement already satisfied: certifi in /home/gitpod/.pyenv/versions/3.12.6/lib/python3.12/site-packages (from kaggle==1.5.12) (2024.8.30)\n",
      "Requirement already satisfied: python-dateutil in /home/gitpod/.pyenv/versions/3.12.6/lib/python3.12/site-packages (from kaggle==1.5.12) (2.9.0.post0)\n",
      "Requirement already satisfied: requests in /home/gitpod/.pyenv/versions/3.12.6/lib/python3.12/site-packages (from kaggle==1.5.12) (2.32.3)\n",
      "Requirement already satisfied: tqdm in /home/gitpod/.pyenv/versions/3.12.6/lib/python3.12/site-packages (from kaggle==1.5.12) (4.66.5)\n",
      "Requirement already satisfied: python-slugify in /home/gitpod/.pyenv/versions/3.12.6/lib/python3.12/site-packages (from kaggle==1.5.12) (8.0.4)\n",
      "Requirement already satisfied: urllib3 in /home/gitpod/.pyenv/versions/3.12.6/lib/python3.12/site-packages (from kaggle==1.5.12) (2.2.2)\n",
      "Requirement already satisfied: text-unidecode>=1.3 in /home/gitpod/.pyenv/versions/3.12.6/lib/python3.12/site-packages (from python-slugify->kaggle==1.5.12) (1.3)\n",
      "Requirement already satisfied: charset-normalizer<4,>=2 in /home/gitpod/.pyenv/versions/3.12.6/lib/python3.12/site-packages (from requests->kaggle==1.5.12) (3.3.2)\n",
      "Requirement already satisfied: idna<4,>=2.5 in /home/gitpod/.pyenv/versions/3.12.6/lib/python3.12/site-packages (from requests->kaggle==1.5.12) (3.8)\n",
      "Note: you may need to restart the kernel to use updated packages.\n"
     ]
    }
   ],
   "source": [
    "# Install Kaggle\n",
    "%pip install kaggle == 1.5.12\n"
   ]
  },
  {
   "cell_type": "markdown",
   "metadata": {},
   "source": [
    "Then, ensure your kaggle.json file is placed in the current working directory for authentication. This file is needed to download data from Kaggle."
   ]
  },
  {
   "cell_type": "code",
   "execution_count": 4,
   "metadata": {},
   "outputs": [],
   "source": [
    "# Set the Kaggle environment variable to the current working directory\n",
    "import os\n",
    "os.environ['KAGGLE_CONFIG_DIR'] = os.getcwd()\n",
    "\n",
    "# Set permissions for the kaggle.json file\n",
    "!chmod 600 kaggle.json\n"
   ]
  },
  {
   "cell_type": "markdown",
   "metadata": {},
   "source": [
    "4. Download the Dataset from Kaggle\n",
    "Define the dataset path from Kaggle and the destination folder for the dataset."
   ]
  },
  {
   "cell_type": "code",
   "execution_count": 5,
   "metadata": {},
   "outputs": [
    {
     "name": "stdout",
     "output_type": "stream",
     "text": [
      "Downloading bicycle-thefts-in-berlin.zip to inputs/datasets/raw\n",
      " 71%|██████████████████████████▉           | 2.00M/2.82M [00:00<00:00, 3.33MB/s]\n",
      "100%|██████████████████████████████████████| 2.82M/2.82M [00:00<00:00, 3.84MB/s]\n"
     ]
    }
   ],
   "source": [
    "import subprocess\n",
    "\n",
    "# Set the Kaggle dataset path and the destination folder\n",
    "KAGGLE_DATASET_PATH = \"arnewo/bicycle-thefts-in-berlin\"\n",
    "DESTINATION_FOLDER = \"inputs/datasets/raw\"\n",
    "\n",
    "# Download the dataset from Kaggle using subprocess\n",
    "subprocess.run(\n",
    "    [\n",
    "        \"kaggle\", \"datasets\", \"download\", \"-d\",\n",
    "        KAGGLE_DATASET_PATH, \"-p\", DESTINATION_FOLDER\n",
    "    ],\n",
    "    check=True\n",
    ")\n"
   ]
  },
  {
   "cell_type": "markdown",
   "metadata": {},
   "source": [
    "5. Unzip and Clean Up the Data\n",
    "Unzip the downloaded file, and then remove the zip file and kaggle.json for cleanup."
   ]
  },
  {
   "cell_type": "code",
   "execution_count": 6,
   "metadata": {},
   "outputs": [
    {
     "name": "stdout",
     "output_type": "stream",
     "text": [
      "Archive:  inputs/datasets/raw/bicycle-thefts-in-berlin.zip\n",
      "replace inputs/datasets/raw/Fahrraddiebstahl.csv? [y]es, [n]o, [A]ll, [N]one, [r]ename: ^C\n"
     ]
    }
   ],
   "source": [
    "import subprocess\n",
    "import os\n",
    "\n",
    "# Set the destination folder\n",
    "DESTINATION_FOLDER = \"inputs/datasets/raw\"\n",
    "\n",
    "# Unzip the dataset\n",
    "subprocess.run(\n",
    "    [\"unzip\", f\"{DESTINATION_FOLDER}/*.zip\", \"-d\", DESTINATION_FOLDER],\n",
    "    check=True\n",
    ")\n",
    "\n",
    "# Remove the zip file\n",
    "subprocess.run(\n",
    "    [\"rm\", f\"{DESTINATION_FOLDER}/*.zip\"],\n",
    "    check=True\n",
    ")\n",
    "\n",
    "# Remove the Kaggle credentials file\n",
    "if os.path.exists(\"kaggle.json\"):\n",
    "    os.remove(\"kaggle.json\")\n"
   ]
  },
  {
   "cell_type": "markdown",
   "metadata": {},
   "source": [
    "6. Load and Inspect the Data\n",
    "Now, load the dataset into a pandas DataFrame and inspect the structure."
   ]
  },
  {
   "cell_type": "code",
   "execution_count": 8,
   "metadata": {},
   "outputs": [
    {
     "data": {
      "text/html": [
       "<div>\n",
       "<style scoped>\n",
       "    .dataframe tbody tr th:only-of-type {\n",
       "        vertical-align: middle;\n",
       "    }\n",
       "\n",
       "    .dataframe tbody tr th {\n",
       "        vertical-align: top;\n",
       "    }\n",
       "\n",
       "    .dataframe thead th {\n",
       "        text-align: right;\n",
       "    }\n",
       "</style>\n",
       "<table border=\"1\" class=\"dataframe\">\n",
       "  <thead>\n",
       "    <tr style=\"text-align: right;\">\n",
       "      <th></th>\n",
       "      <th>ANGELEGT_AM</th>\n",
       "      <th>TATZEIT_ANFANG_DATUM</th>\n",
       "      <th>TATZEIT_ANFANG_STUNDE</th>\n",
       "      <th>TATZEIT_ENDE_DATUM</th>\n",
       "      <th>TATZEIT_ENDE_STUNDE</th>\n",
       "      <th>LOR</th>\n",
       "      <th>SCHADENSHOEHE</th>\n",
       "      <th>VERSUCH</th>\n",
       "      <th>ART_DES_FAHRRADS</th>\n",
       "      <th>DELIKT</th>\n",
       "      <th>ERFASSUNGSGRUND</th>\n",
       "    </tr>\n",
       "  </thead>\n",
       "  <tbody>\n",
       "    <tr>\n",
       "      <th>0</th>\n",
       "      <td>25.11.2023</td>\n",
       "      <td>23.11.2023</td>\n",
       "      <td>15</td>\n",
       "      <td>25.11.2023</td>\n",
       "      <td>8</td>\n",
       "      <td>10100207</td>\n",
       "      <td>5500</td>\n",
       "      <td>Nein</td>\n",
       "      <td>Fahrrad</td>\n",
       "      <td>Keller- und Bodeneinbruch</td>\n",
       "      <td>Sonstiger schwerer Diebstahl in/aus Keller/Bod...</td>\n",
       "    </tr>\n",
       "    <tr>\n",
       "      <th>1</th>\n",
       "      <td>25.11.2023</td>\n",
       "      <td>25.11.2023</td>\n",
       "      <td>9</td>\n",
       "      <td>25.11.2023</td>\n",
       "      <td>14</td>\n",
       "      <td>2400521</td>\n",
       "      <td>2400</td>\n",
       "      <td>Nein</td>\n",
       "      <td>Herrenfahrrad</td>\n",
       "      <td>Fahrraddiebstahl</td>\n",
       "      <td>Einfacher Diebstahl von Fahrrädern</td>\n",
       "    </tr>\n",
       "    <tr>\n",
       "      <th>2</th>\n",
       "      <td>25.11.2023</td>\n",
       "      <td>24.11.2023</td>\n",
       "      <td>13</td>\n",
       "      <td>24.11.2023</td>\n",
       "      <td>22</td>\n",
       "      <td>6300630</td>\n",
       "      <td>2399</td>\n",
       "      <td>Nein</td>\n",
       "      <td>Fahrrad</td>\n",
       "      <td>Fahrraddiebstahl</td>\n",
       "      <td>Sonstiger schwerer Diebstahl von Fahrrädern</td>\n",
       "    </tr>\n",
       "    <tr>\n",
       "      <th>3</th>\n",
       "      <td>25.11.2023</td>\n",
       "      <td>24.11.2023</td>\n",
       "      <td>18</td>\n",
       "      <td>25.11.2023</td>\n",
       "      <td>10</td>\n",
       "      <td>9301126</td>\n",
       "      <td>630</td>\n",
       "      <td>Nein</td>\n",
       "      <td>Damenfahrrad</td>\n",
       "      <td>Keller- und Bodeneinbruch</td>\n",
       "      <td>Sonstiger schwerer Diebstahl in/aus Keller/Bod...</td>\n",
       "    </tr>\n",
       "    <tr>\n",
       "      <th>4</th>\n",
       "      <td>25.11.2023</td>\n",
       "      <td>24.11.2023</td>\n",
       "      <td>18</td>\n",
       "      <td>25.11.2023</td>\n",
       "      <td>10</td>\n",
       "      <td>9301126</td>\n",
       "      <td>200</td>\n",
       "      <td>Nein</td>\n",
       "      <td>Herrenfahrrad</td>\n",
       "      <td>Keller- und Bodeneinbruch</td>\n",
       "      <td>Sonstiger schwerer Diebstahl in/aus Keller/Bod...</td>\n",
       "    </tr>\n",
       "  </tbody>\n",
       "</table>\n",
       "</div>"
      ],
      "text/plain": [
       "  ANGELEGT_AM TATZEIT_ANFANG_DATUM  TATZEIT_ANFANG_STUNDE TATZEIT_ENDE_DATUM  \\\n",
       "0  25.11.2023           23.11.2023                     15         25.11.2023   \n",
       "1  25.11.2023           25.11.2023                      9         25.11.2023   \n",
       "2  25.11.2023           24.11.2023                     13         24.11.2023   \n",
       "3  25.11.2023           24.11.2023                     18         25.11.2023   \n",
       "4  25.11.2023           24.11.2023                     18         25.11.2023   \n",
       "\n",
       "   TATZEIT_ENDE_STUNDE       LOR  SCHADENSHOEHE VERSUCH ART_DES_FAHRRADS  \\\n",
       "0                    8  10100207           5500    Nein          Fahrrad   \n",
       "1                   14   2400521           2400    Nein    Herrenfahrrad   \n",
       "2                   22   6300630           2399    Nein          Fahrrad   \n",
       "3                   10   9301126            630    Nein     Damenfahrrad   \n",
       "4                   10   9301126            200    Nein    Herrenfahrrad   \n",
       "\n",
       "                      DELIKT  \\\n",
       "0  Keller- und Bodeneinbruch   \n",
       "1           Fahrraddiebstahl   \n",
       "2           Fahrraddiebstahl   \n",
       "3  Keller- und Bodeneinbruch   \n",
       "4  Keller- und Bodeneinbruch   \n",
       "\n",
       "                                     ERFASSUNGSGRUND  \n",
       "0  Sonstiger schwerer Diebstahl in/aus Keller/Bod...  \n",
       "1                 Einfacher Diebstahl von Fahrrädern  \n",
       "2        Sonstiger schwerer Diebstahl von Fahrrädern  \n",
       "3  Sonstiger schwerer Diebstahl in/aus Keller/Bod...  \n",
       "4  Sonstiger schwerer Diebstahl in/aus Keller/Bod...  "
      ]
     },
     "execution_count": 8,
     "metadata": {},
     "output_type": "execute_result"
    }
   ],
   "source": [
    "# Import pandas for data manipulation\n",
    "import pandas as pd\n",
    "\n",
    "# Set the destination folder\n",
    "DESTINATION_FOLDER = \"inputs/datasets/raw\"\n",
    "\n",
    "# Load the dataset with the correct encoding\n",
    "df = pd.read_csv(\n",
    "    f\"{DESTINATION_FOLDER}/Fahrraddiebstahl.csv\",\n",
    "    encoding=\"latin1\"\n",
    ")\n",
    "\n",
    "# Display the first few rows of the dataset\n",
    "df.head()\n"
   ]
  },
  {
   "cell_type": "markdown",
   "metadata": {},
   "source": [
    "7. DataFrame Summary\n",
    "Inspect the structure and details of the dataset."
   ]
  },
  {
   "cell_type": "code",
   "execution_count": 9,
   "metadata": {},
   "outputs": [
    {
     "name": "stdout",
     "output_type": "stream",
     "text": [
      "<class 'pandas.core.frame.DataFrame'>\n",
      "RangeIndex: 43136 entries, 0 to 43135\n",
      "Data columns (total 11 columns):\n",
      " #   Column                 Non-Null Count  Dtype \n",
      "---  ------                 --------------  ----- \n",
      " 0   ANGELEGT_AM            43136 non-null  object\n",
      " 1   TATZEIT_ANFANG_DATUM   43136 non-null  object\n",
      " 2   TATZEIT_ANFANG_STUNDE  43136 non-null  int64 \n",
      " 3   TATZEIT_ENDE_DATUM     43136 non-null  object\n",
      " 4   TATZEIT_ENDE_STUNDE    43136 non-null  int64 \n",
      " 5   LOR                    43136 non-null  int64 \n",
      " 6   SCHADENSHOEHE          43136 non-null  int64 \n",
      " 7   VERSUCH                43136 non-null  object\n",
      " 8   ART_DES_FAHRRADS       43136 non-null  object\n",
      " 9   DELIKT                 43136 non-null  object\n",
      " 10  ERFASSUNGSGRUND        43136 non-null  object\n",
      "dtypes: int64(4), object(7)\n",
      "memory usage: 3.6+ MB\n"
     ]
    },
    {
     "data": {
      "text/html": [
       "<div>\n",
       "<style scoped>\n",
       "    .dataframe tbody tr th:only-of-type {\n",
       "        vertical-align: middle;\n",
       "    }\n",
       "\n",
       "    .dataframe tbody tr th {\n",
       "        vertical-align: top;\n",
       "    }\n",
       "\n",
       "    .dataframe thead th {\n",
       "        text-align: right;\n",
       "    }\n",
       "</style>\n",
       "<table border=\"1\" class=\"dataframe\">\n",
       "  <thead>\n",
       "    <tr style=\"text-align: right;\">\n",
       "      <th></th>\n",
       "      <th>ANGELEGT_AM</th>\n",
       "      <th>TATZEIT_ANFANG_DATUM</th>\n",
       "      <th>TATZEIT_ANFANG_STUNDE</th>\n",
       "      <th>TATZEIT_ENDE_DATUM</th>\n",
       "      <th>TATZEIT_ENDE_STUNDE</th>\n",
       "      <th>LOR</th>\n",
       "      <th>SCHADENSHOEHE</th>\n",
       "      <th>VERSUCH</th>\n",
       "      <th>ART_DES_FAHRRADS</th>\n",
       "      <th>DELIKT</th>\n",
       "      <th>ERFASSUNGSGRUND</th>\n",
       "    </tr>\n",
       "  </thead>\n",
       "  <tbody>\n",
       "    <tr>\n",
       "      <th>36</th>\n",
       "      <td>24.11.2023</td>\n",
       "      <td>18.11.2023</td>\n",
       "      <td>14</td>\n",
       "      <td>18.11.2023</td>\n",
       "      <td>14</td>\n",
       "      <td>11401032</td>\n",
       "      <td>0</td>\n",
       "      <td>Nein</td>\n",
       "      <td>Rennrad</td>\n",
       "      <td>Fahrraddiebstahl</td>\n",
       "      <td>Einfacher Diebstahl von Fahrrädern</td>\n",
       "    </tr>\n",
       "    <tr>\n",
       "      <th>38</th>\n",
       "      <td>24.11.2023</td>\n",
       "      <td>18.11.2023</td>\n",
       "      <td>14</td>\n",
       "      <td>18.11.2023</td>\n",
       "      <td>14</td>\n",
       "      <td>11401032</td>\n",
       "      <td>0</td>\n",
       "      <td>Nein</td>\n",
       "      <td>Rennrad</td>\n",
       "      <td>Fahrraddiebstahl</td>\n",
       "      <td>Einfacher Diebstahl von Fahrrädern</td>\n",
       "    </tr>\n",
       "    <tr>\n",
       "      <th>42</th>\n",
       "      <td>24.11.2023</td>\n",
       "      <td>18.11.2023</td>\n",
       "      <td>14</td>\n",
       "      <td>18.11.2023</td>\n",
       "      <td>14</td>\n",
       "      <td>11401032</td>\n",
       "      <td>0</td>\n",
       "      <td>Nein</td>\n",
       "      <td>Rennrad</td>\n",
       "      <td>Fahrraddiebstahl</td>\n",
       "      <td>Einfacher Diebstahl von Fahrrädern</td>\n",
       "    </tr>\n",
       "    <tr>\n",
       "      <th>51</th>\n",
       "      <td>24.11.2023</td>\n",
       "      <td>18.11.2023</td>\n",
       "      <td>14</td>\n",
       "      <td>18.11.2023</td>\n",
       "      <td>14</td>\n",
       "      <td>11401032</td>\n",
       "      <td>0</td>\n",
       "      <td>Nein</td>\n",
       "      <td>Herrenfahrrad</td>\n",
       "      <td>Fahrraddiebstahl</td>\n",
       "      <td>Einfacher Diebstahl von Fahrrädern</td>\n",
       "    </tr>\n",
       "    <tr>\n",
       "      <th>68</th>\n",
       "      <td>24.11.2023</td>\n",
       "      <td>18.11.2023</td>\n",
       "      <td>14</td>\n",
       "      <td>18.11.2023</td>\n",
       "      <td>14</td>\n",
       "      <td>11401032</td>\n",
       "      <td>0</td>\n",
       "      <td>Nein</td>\n",
       "      <td>Rennrad</td>\n",
       "      <td>Fahrraddiebstahl</td>\n",
       "      <td>Einfacher Diebstahl von Fahrrädern</td>\n",
       "    </tr>\n",
       "    <tr>\n",
       "      <th>...</th>\n",
       "      <td>...</td>\n",
       "      <td>...</td>\n",
       "      <td>...</td>\n",
       "      <td>...</td>\n",
       "      <td>...</td>\n",
       "      <td>...</td>\n",
       "      <td>...</td>\n",
       "      <td>...</td>\n",
       "      <td>...</td>\n",
       "      <td>...</td>\n",
       "      <td>...</td>\n",
       "    </tr>\n",
       "    <tr>\n",
       "      <th>39651</th>\n",
       "      <td>21.03.2022</td>\n",
       "      <td>20.03.2022</td>\n",
       "      <td>18</td>\n",
       "      <td>21.03.2022</td>\n",
       "      <td>10</td>\n",
       "      <td>4501044</td>\n",
       "      <td>1000</td>\n",
       "      <td>Nein</td>\n",
       "      <td>Herrenfahrrad</td>\n",
       "      <td>Fahrraddiebstahl</td>\n",
       "      <td>Sonstiger schwerer Diebstahl von Fahrrädern</td>\n",
       "    </tr>\n",
       "    <tr>\n",
       "      <th>40852</th>\n",
       "      <td>25.02.2022</td>\n",
       "      <td>25.02.2022</td>\n",
       "      <td>14</td>\n",
       "      <td>25.02.2022</td>\n",
       "      <td>14</td>\n",
       "      <td>3200206</td>\n",
       "      <td>50</td>\n",
       "      <td>Nein</td>\n",
       "      <td>Mountainbike</td>\n",
       "      <td>Fahrraddiebstahl</td>\n",
       "      <td>Sonstiger schwerer Diebstahl von Fahrrädern</td>\n",
       "    </tr>\n",
       "    <tr>\n",
       "      <th>41556</th>\n",
       "      <td>11.02.2022</td>\n",
       "      <td>10.02.2022</td>\n",
       "      <td>22</td>\n",
       "      <td>11.02.2022</td>\n",
       "      <td>7</td>\n",
       "      <td>11300723</td>\n",
       "      <td>538</td>\n",
       "      <td>Nein</td>\n",
       "      <td>Herrenfahrrad</td>\n",
       "      <td>Fahrraddiebstahl</td>\n",
       "      <td>Sonstiger schwerer Diebstahl von Fahrrädern</td>\n",
       "    </tr>\n",
       "    <tr>\n",
       "      <th>41716</th>\n",
       "      <td>08.02.2022</td>\n",
       "      <td>07.02.2022</td>\n",
       "      <td>22</td>\n",
       "      <td>08.02.2022</td>\n",
       "      <td>2</td>\n",
       "      <td>1300834</td>\n",
       "      <td>1</td>\n",
       "      <td>Nein</td>\n",
       "      <td>Mountainbike</td>\n",
       "      <td>Fahrraddiebstahl</td>\n",
       "      <td>Einfacher Diebstahl von Fahrrädern</td>\n",
       "    </tr>\n",
       "    <tr>\n",
       "      <th>42007</th>\n",
       "      <td>01.02.2022</td>\n",
       "      <td>30.01.2022</td>\n",
       "      <td>18</td>\n",
       "      <td>01.02.2022</td>\n",
       "      <td>7</td>\n",
       "      <td>12400721</td>\n",
       "      <td>501</td>\n",
       "      <td>Nein</td>\n",
       "      <td>Herrenfahrrad</td>\n",
       "      <td>Fahrraddiebstahl</td>\n",
       "      <td>Einfacher Diebstahl von Fahrrädern</td>\n",
       "    </tr>\n",
       "  </tbody>\n",
       "</table>\n",
       "<p>108 rows × 11 columns</p>\n",
       "</div>"
      ],
      "text/plain": [
       "      ANGELEGT_AM TATZEIT_ANFANG_DATUM  TATZEIT_ANFANG_STUNDE  \\\n",
       "36     24.11.2023           18.11.2023                     14   \n",
       "38     24.11.2023           18.11.2023                     14   \n",
       "42     24.11.2023           18.11.2023                     14   \n",
       "51     24.11.2023           18.11.2023                     14   \n",
       "68     24.11.2023           18.11.2023                     14   \n",
       "...           ...                  ...                    ...   \n",
       "39651  21.03.2022           20.03.2022                     18   \n",
       "40852  25.02.2022           25.02.2022                     14   \n",
       "41556  11.02.2022           10.02.2022                     22   \n",
       "41716  08.02.2022           07.02.2022                     22   \n",
       "42007  01.02.2022           30.01.2022                     18   \n",
       "\n",
       "      TATZEIT_ENDE_DATUM  TATZEIT_ENDE_STUNDE       LOR  SCHADENSHOEHE  \\\n",
       "36            18.11.2023                   14  11401032              0   \n",
       "38            18.11.2023                   14  11401032              0   \n",
       "42            18.11.2023                   14  11401032              0   \n",
       "51            18.11.2023                   14  11401032              0   \n",
       "68            18.11.2023                   14  11401032              0   \n",
       "...                  ...                  ...       ...            ...   \n",
       "39651         21.03.2022                   10   4501044           1000   \n",
       "40852         25.02.2022                   14   3200206             50   \n",
       "41556         11.02.2022                    7  11300723            538   \n",
       "41716         08.02.2022                    2   1300834              1   \n",
       "42007         01.02.2022                    7  12400721            501   \n",
       "\n",
       "      VERSUCH ART_DES_FAHRRADS            DELIKT  \\\n",
       "36       Nein          Rennrad  Fahrraddiebstahl   \n",
       "38       Nein          Rennrad  Fahrraddiebstahl   \n",
       "42       Nein          Rennrad  Fahrraddiebstahl   \n",
       "51       Nein    Herrenfahrrad  Fahrraddiebstahl   \n",
       "68       Nein          Rennrad  Fahrraddiebstahl   \n",
       "...       ...              ...               ...   \n",
       "39651    Nein    Herrenfahrrad  Fahrraddiebstahl   \n",
       "40852    Nein     Mountainbike  Fahrraddiebstahl   \n",
       "41556    Nein    Herrenfahrrad  Fahrraddiebstahl   \n",
       "41716    Nein     Mountainbike  Fahrraddiebstahl   \n",
       "42007    Nein    Herrenfahrrad  Fahrraddiebstahl   \n",
       "\n",
       "                                   ERFASSUNGSGRUND  \n",
       "36              Einfacher Diebstahl von Fahrrädern  \n",
       "38              Einfacher Diebstahl von Fahrrädern  \n",
       "42              Einfacher Diebstahl von Fahrrädern  \n",
       "51              Einfacher Diebstahl von Fahrrädern  \n",
       "68              Einfacher Diebstahl von Fahrrädern  \n",
       "...                                            ...  \n",
       "39651  Sonstiger schwerer Diebstahl von Fahrrädern  \n",
       "40852  Sonstiger schwerer Diebstahl von Fahrrädern  \n",
       "41556  Sonstiger schwerer Diebstahl von Fahrrädern  \n",
       "41716           Einfacher Diebstahl von Fahrrädern  \n",
       "42007           Einfacher Diebstahl von Fahrrädern  \n",
       "\n",
       "[108 rows x 11 columns]"
      ]
     },
     "execution_count": 9,
     "metadata": {},
     "output_type": "execute_result"
    }
   ],
   "source": [
    "# Get summary information about the dataset\n",
    "df.info()\n",
    "\n",
    "# Check for any duplicated rows\n",
    "df[df.duplicated()]\n"
   ]
  },
  {
   "cell_type": "markdown",
   "metadata": {},
   "source": [
    "8. Basic Cleaning\n",
    "For this example, let’s convert categorical variables, like VERSUCH (whether the theft was attempted), and check other important columns like dates."
   ]
  },
  {
   "cell_type": "code",
   "execution_count": 11,
   "metadata": {},
   "outputs": [
    {
     "name": "stdout",
     "output_type": "stream",
     "text": [
      "<class 'pandas.core.frame.DataFrame'>\n",
      "RangeIndex: 43136 entries, 0 to 43135\n",
      "Data columns (total 3 columns):\n",
      " #   Column                Non-Null Count  Dtype         \n",
      "---  ------                --------------  -----         \n",
      " 0   ANGELEGT_AM           43136 non-null  datetime64[ns]\n",
      " 1   TATZEIT_ANFANG_DATUM  43136 non-null  datetime64[ns]\n",
      " 2   TATZEIT_ENDE_DATUM    43136 non-null  datetime64[ns]\n",
      "dtypes: datetime64[ns](3)\n",
      "memory usage: 1011.1 KB\n"
     ]
    }
   ],
   "source": [
    "# Convert the VERSUCH column (Ja/Nein) into binary values (1/0)\n",
    "df[\"VERSUCH\"] = df[\"VERSUCH\"].replace({\"Ja\": 1, \"Nein\": 0})\n",
    "\n",
    "# Convert date columns into datetime format, specifying dayfirst=True\n",
    "df[\"ANGELEGT_AM\"] = pd.to_datetime(\n",
    "    df[\"ANGELEGT_AM\"], dayfirst=True, errors=\"coerce\"\n",
    ")\n",
    "df[\"TATZEIT_ANFANG_DATUM\"] = pd.to_datetime(\n",
    "    df[\"TATZEIT_ANFANG_DATUM\"], dayfirst=True, errors=\"coerce\"\n",
    ")\n",
    "df[\"TATZEIT_ENDE_DATUM\"] = pd.to_datetime(\n",
    "    df[\"TATZEIT_ENDE_DATUM\"], dayfirst=True, errors=\"coerce\"\n",
    ")\n",
    "\n",
    "# Check for any issues after conversion\n",
    "df[[\"ANGELEGT_AM\", \"TATZEIT_ANFANG_DATUM\", \"TATZEIT_ENDE_DATUM\"]].info()\n"
   ]
  },
  {
   "cell_type": "markdown",
   "metadata": {},
   "source": [
    "9. Save Cleaned Data\n",
    "Now, save the cleaned dataset under the outputs folder."
   ]
  },
  {
   "cell_type": "code",
   "execution_count": 12,
   "metadata": {},
   "outputs": [],
   "source": [
    "# Create the outputs/datasets/collection folder if it doesn’t exist\n",
    "import os\n",
    "output_dir = 'outputs/datasets/collection'\n",
    "os.makedirs(output_dir, exist_ok=True)\n",
    "\n",
    "# Save the cleaned dataset\n",
    "df.to_csv(f\"{output_dir}/Fahrraddiebstahl.csv\", index=False)\n"
   ]
  },
  {
   "cell_type": "markdown",
   "metadata": {},
   "source": [
    "10. Push Files to GitHub\n",
    "After saving the dataset, push the changes to your GitHub repository using Git commands."
   ]
  },
  {
   "cell_type": "code",
   "execution_count": 13,
   "metadata": {},
   "outputs": [
    {
     "ename": "SyntaxError",
     "evalue": "invalid syntax (361629398.py, line 2)",
     "output_type": "error",
     "traceback": [
      "\u001b[0;36m  Cell \u001b[0;32mIn[13], line 2\u001b[0;36m\u001b[0m\n\u001b[0;31m    git add .\u001b[0m\n\u001b[0m        ^\u001b[0m\n\u001b[0;31mSyntaxError\u001b[0m\u001b[0;31m:\u001b[0m invalid syntax\n"
     ]
    }
   ],
   "source": [
    "import subprocess\n",
    "\n",
    "# Add changes to the staging area\n",
    "subprocess.run([\"git\", \"add\", \".\"], check=True)\n",
    "\n",
    "# Commit the changes with a descriptive message\n",
    "commit_message = \"Add cleaned data for Bicycle Thefts project\"\n",
    "subprocess.run([\"git\", \"commit\", \"-m\", commit_message], check=True)\n",
    "\n",
    "# Push the changes to the remote GitHub repository\n",
    "subprocess.run([\"git\", \"push\"], check=True)\n"
   ]
  }
 ],
 "metadata": {
  "kernelspec": {
   "display_name": "Python 3",
   "language": "python",
   "name": "python3"
  },
  "language_info": {
   "codemirror_mode": {
    "name": "ipython",
    "version": 3
   },
   "file_extension": ".py",
   "mimetype": "text/x-python",
   "name": "python",
   "nbconvert_exporter": "python",
   "pygments_lexer": "ipython3",
   "version": "3.12.6"
  }
 },
 "nbformat": 4,
 "nbformat_minor": 2
}
