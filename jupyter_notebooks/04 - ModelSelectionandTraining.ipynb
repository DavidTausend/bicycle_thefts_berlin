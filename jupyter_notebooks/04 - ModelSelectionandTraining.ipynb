{
 "cells": [
  {
   "cell_type": "markdown",
   "metadata": {},
   "source": [
    "# Model Selection and Training Notebook\n",
    "\n",
    "## Objectives:\n",
    "- Train multiple machine learning models on the dataset.\n",
    "- Perform hyperparameter tuning to find the best model.\n",
    "- Save trained models for further evaluation."
   ]
  },
  {
   "cell_type": "markdown",
   "metadata": {},
   "source": [
    "1. Import Libraries"
   ]
  },
  {
   "cell_type": "code",
   "execution_count": 1,
   "metadata": {},
   "outputs": [],
   "source": [
    "import pandas as pd\n",
    "import numpy as np\n",
    "from sklearn.model_selection import GridSearchCV, cross_val_score\n",
    "from sklearn.metrics import accuracy_score, f1_score, classification_report\n",
    "from sklearn.ensemble import RandomForestClassifier\n",
    "from sklearn.linear_model import LogisticRegression\n",
    "from sklearn.svm import SVC\n",
    "from sklearn.neighbors import KNeighborsClassifier\n",
    "import joblib\n",
    "import os"
   ]
  },
  {
   "cell_type": "markdown",
   "metadata": {},
   "source": [
    "2. Load Data"
   ]
  },
  {
   "cell_type": "code",
   "execution_count": 19,
   "metadata": {},
   "outputs": [
    {
     "name": "stdout",
     "output_type": "stream",
     "text": [
      "Current working directory: /workspace/bicycle_thefts_berlin/jupyter_notebooks\n",
      "['0' '1' 'Unbekannt' 0 1]\n",
      "['Sonstiger schwerer Diebstahl von FahrrÃ¤dern'\n",
      " 'Einfacher Diebstahl von FahrrÃ¤dern'\n",
      " 'Sonstiger schwerer Diebstahl in/aus Keller/Boden von FahrrÃ¤dern'\n",
      " 'Einfacher Diebstahl aus Keller/Boden von FahrrÃ¤dern']\n",
      "[False  True]\n",
      "Data has been loaded and split into features and target.\n"
     ]
    },
    {
     "name": "stderr",
     "output_type": "stream",
     "text": [
      "/tmp/ipykernel_1879/2322256479.py:8: DtypeWarning: Columns (4) have mixed types. Specify dtype option on import or set low_memory=False.\n",
      "  train_data = pd.read_csv(train_data_path)\n"
     ]
    }
   ],
   "source": [
    "# Display current working directory\n",
    "print(\"Current working directory:\", os.getcwd())\n",
    "\n",
    "# Load preprocessed data\n",
    "train_data_path = '/workspace/bicycle_thefts_berlin/outputs/datasets/featured/TrainSet_Featured.csv'\n",
    "test_data_path = '/workspace/bicycle_thefts_berlin/outputs/datasets/featured/TestSet_Featured.csv'\n",
    "\n",
    "train_data = pd.read_csv(train_data_path)\n",
    "test_data = pd.read_csv(test_data_path)\n",
    "\n",
    "# Inspect the target column and others\n",
    "print(train_data['VERSUCH'].unique())\n",
    "print(train_data['ERFASSUNGSGRUND'].unique())\n",
    "print(train_data['DELIKT_Keller- und Bodeneinbruch'].unique())\n",
    "\n",
    "# Define target column\n",
    "target_column = 'VERSUCH'\n",
    "\n",
    "# Separate features and target variable\n",
    "X_train = train_data.drop(columns=[target_column])\n",
    "y_train = train_data[target_column]\n",
    "X_test = test_data.drop(columns=[target_column])\n",
    "y_test = test_data[target_column]\n",
    "\n",
    "print(\"Data has been loaded and split into features and target.\")"
   ]
  },
  {
   "cell_type": "markdown",
   "metadata": {},
   "source": [
    "3. Preprocessing Data and Validating Columns"
   ]
  },
  {
   "cell_type": "code",
   "execution_count": 21,
   "metadata": {},
   "outputs": [
    {
     "name": "stdout",
     "output_type": "stream",
     "text": [
      "Unique target values before cleaning: [0 1]\n",
      "Validated and cleaned target column values: [0 1]\n",
      "Unique target values before cleaning: [0 1]\n",
      "Validated and cleaned target column values: [0 1]\n",
      "Data preprocessing completed.\n"
     ]
    }
   ],
   "source": [
    "# Validate Target Variable\n",
    "def clean_and_validate_target(target):\n",
    "    # Identify non-numeric values\n",
    "    print(\"Unique target values before cleaning:\", target.unique())\n",
    "\n",
    "    # Convert valid numeric-like strings to integers\n",
    "    target = pd.to_numeric(target, errors='coerce')\n",
    "\n",
    "    # Remove invalid entries (e.g., NaN values resulting from 'Unbekannt' or other non-numeric data)\n",
    "    target = target.dropna().astype(int)\n",
    "\n",
    "    print(\"Validated and cleaned target column values:\", target.unique())\n",
    "    return target\n",
    "\n",
    "# Apply the function to y_train and y_test\n",
    "y_train = clean_and_validate_target(y_train)\n",
    "y_test = clean_and_validate_target(y_test)\n",
    "\n",
    "# Preprocess Features\n",
    "def preprocess_data(df):\n",
    "    # Convert date columns to numeric timestamp if applicable\n",
    "    if 'ANGELEGT_AM' in df.columns:\n",
    "        df['ANGELEGT_AM'] = pd.to_datetime(df['ANGELEGT_AM'], errors='coerce').astype('int64') // 10**9\n",
    "\n",
    "    # Convert all columns to numeric, applying one-hot encoding for categorical data\n",
    "    df = pd.get_dummies(df, drop_first=True)\n",
    "    df = df.apply(pd.to_numeric, errors='coerce').fillna(0)  # Handle missing values\n",
    "    return df\n",
    "\n",
    "X_train = preprocess_data(X_train)\n",
    "X_test = preprocess_data(X_test)\n",
    "\n",
    "# Ensure column alignment between train and test sets\n",
    "X_train, X_test = X_train.align(X_test, join='inner', axis=1)\n",
    "\n",
    "print(\"Data preprocessing completed.\")"
   ]
  },
  {
   "cell_type": "markdown",
   "metadata": {},
   "source": [
    "4. Model Selection\n",
    "We’ll define a list of models that we want to evaluate."
   ]
  },
  {
   "cell_type": "code",
   "execution_count": 22,
   "metadata": {},
   "outputs": [],
   "source": [
    "models = {\n",
    "    'Logistic Regression': LogisticRegression(max_iter=1000),\n",
    "    'Random Forest': RandomForestClassifier(),\n",
    "    'SVM': SVC(),\n",
    "    'K-Nearest Neighbors': KNeighborsClassifier()\n",
    "}"
   ]
  },
  {
   "cell_type": "markdown",
   "metadata": {},
   "source": [
    "5. Training Models\n",
    "For each model, train it on the training data and store the results."
   ]
  },
  {
   "cell_type": "code",
   "execution_count": 23,
   "metadata": {},
   "outputs": [
    {
     "name": "stdout",
     "output_type": "stream",
     "text": [
      "Aligned X_train shape: (34500, 708), y_train shape: (34500,)\n",
      "Aligned X_test shape: (8627, 708), y_test shape: (8627,)\n",
      "Training Logistic Regression...\n",
      "Logistic Regression saved as Logistic Regression_model.pkl\n",
      "Logistic Regression -> Train Accuracy: 0.9960, Test Accuracy: 0.9976, Test F1: 0.9964\n",
      "Training Random Forest...\n",
      "Random Forest saved as Random Forest_model.pkl\n",
      "Random Forest -> Train Accuracy: 0.9998, Test Accuracy: 0.9973, Test F1: 0.9962\n",
      "Training SVM...\n",
      "SVM saved as SVM_model.pkl\n",
      "SVM -> Train Accuracy: 0.9960, Test Accuracy: 0.9976, Test F1: 0.9964\n",
      "Training K-Nearest Neighbors...\n",
      "K-Nearest Neighbors saved as K-Nearest Neighbors_model.pkl\n",
      "K-Nearest Neighbors -> Train Accuracy: 0.9960, Test Accuracy: 0.9974, Test F1: 0.9963\n",
      "Feature columns saved for alignment during evaluation.\n",
      "                     train_accuracy  test_accuracy  train_f1   test_f1\n",
      "Logistic Regression        0.996000       0.997566  0.994004  0.996350\n",
      "Random Forest              0.999768       0.997334  0.999766  0.996234\n",
      "SVM                        0.996000       0.997566  0.994004  0.996350\n",
      "K-Nearest Neighbors        0.996000       0.997450  0.994061  0.996292\n",
      "Model performance results saved to 'model_performance_summary.csv'.\n"
     ]
    }
   ],
   "source": [
    "# Initialize model performance dictionary\n",
    "model_performance = {}\n",
    "\n",
    "# Function to align and clean data\n",
    "def clean_and_align_data(X, y):\n",
    "    \"\"\"\n",
    "    Aligns X and y by ensuring their indices match and removing NaN values.\n",
    "    \"\"\"\n",
    "    # Drop NaN values from the target variable\n",
    "    y = y.dropna()\n",
    "\n",
    "    # Align X and y based on their indices\n",
    "    X = X.loc[y.index]\n",
    "\n",
    "    # Fill any remaining missing values in X\n",
    "    X = X.fillna(0)\n",
    "\n",
    "    return X, y\n",
    "\n",
    "# Align and clean the training and test data\n",
    "X_train, y_train = clean_and_align_data(X_train, y_train)\n",
    "X_test, y_test = clean_and_align_data(X_test, y_test)\n",
    "\n",
    "# Debug: Check the shape of the aligned data\n",
    "print(f\"Aligned X_train shape: {X_train.shape}, y_train shape: {y_train.shape}\")\n",
    "print(f\"Aligned X_test shape: {X_test.shape}, y_test shape: {y_test.shape}\")\n",
    "\n",
    "# Step 1: Ensure X and y have the same length\n",
    "assert len(X_train) == len(y_train), \"X_train and y_train have mismatched lengths.\"\n",
    "assert len(X_test) == len(y_test), \"X_test and y_test have mismatched lengths.\"\n",
    "\n",
    "# Step 2: Train models and calculate performance metrics\n",
    "for model_name, model in models.items():\n",
    "    try:\n",
    "        print(f\"Training {model_name}...\")\n",
    "\n",
    "        # Train the model\n",
    "        model.fit(X_train, y_train)\n",
    "\n",
    "        # Save the trained model\n",
    "        model_path = f'{model_name}_model.pkl'\n",
    "        joblib.dump(model, model_path)\n",
    "        print(f\"{model_name} saved as {model_path}\")\n",
    "\n",
    "        # Predictions on train and test sets\n",
    "        y_pred_train = model.predict(X_train)\n",
    "        y_pred_test = model.predict(X_test)\n",
    "\n",
    "        # Calculate accuracy and F1-score\n",
    "        train_accuracy = accuracy_score(y_train, y_pred_train)\n",
    "        test_accuracy = accuracy_score(y_test, y_pred_test)\n",
    "        train_f1 = f1_score(y_train, y_pred_train, average='weighted')\n",
    "        test_f1 = f1_score(y_test, y_pred_test, average='weighted')\n",
    "\n",
    "        # Store performance metrics\n",
    "        model_performance[model_name] = {\n",
    "            'train_accuracy': train_accuracy,\n",
    "            'test_accuracy': test_accuracy,\n",
    "            'train_f1': train_f1,\n",
    "            'test_f1': test_f1\n",
    "        }\n",
    "\n",
    "        print(f\"{model_name} -> Train Accuracy: {train_accuracy:.4f}, Test Accuracy: {test_accuracy:.4f}, Test F1: {test_f1:.4f}\")\n",
    "\n",
    "    except ValueError as ve:\n",
    "        print(f\"ValueError during {model_name} training: {ve}\")\n",
    "    except NotFittedError as nfe:\n",
    "        print(f\"NotFittedError during {model_name} training: {nfe}\")\n",
    "    except Exception as e:\n",
    "        print(f\"Unexpected error during {model_name} training: {e}\")\n",
    "\n",
    "# Save feature names for alignment during evaluation\n",
    "joblib.dump(X_train.columns.tolist(), 'model_columns.pkl')\n",
    "print(\"Feature columns saved for alignment during evaluation.\")\n",
    "\n",
    "# Save performance metrics to CSV\n",
    "results_df = pd.DataFrame(model_performance).T\n",
    "print(results_df)\n",
    "\n",
    "results_df.to_csv('model_performance_summary.csv', index=True)\n",
    "print(\"Model performance results saved to 'model_performance_summary.csv'.\")"
   ]
  },
  {
   "cell_type": "markdown",
   "metadata": {},
   "source": [
    "6. Training Models and Saving Results"
   ]
  },
  {
   "cell_type": "code",
   "execution_count": 24,
   "metadata": {},
   "outputs": [
    {
     "name": "stdout",
     "output_type": "stream",
     "text": [
      "Training Logistic Regression...\n",
      "Logistic Regression saved as outputs/models/Logistic Regression_model.pkl\n",
      "Logistic Regression -> Train Accuracy: 0.9960, Test Accuracy: 0.9976, Test F1: 0.9964\n",
      "Training Random Forest...\n",
      "Random Forest saved as outputs/models/Random Forest_model.pkl\n",
      "Random Forest -> Train Accuracy: 0.9997, Test Accuracy: 0.9971, Test F1: 0.9961\n",
      "Training SVM...\n",
      "SVM saved as outputs/models/SVM_model.pkl\n",
      "SVM -> Train Accuracy: 0.9960, Test Accuracy: 0.9976, Test F1: 0.9964\n",
      "Training K-Nearest Neighbors...\n",
      "K-Nearest Neighbors saved as outputs/models/K-Nearest Neighbors_model.pkl\n",
      "K-Nearest Neighbors -> Train Accuracy: 0.9960, Test Accuracy: 0.9974, Test F1: 0.9963\n",
      "Feature columns saved for alignment during evaluation.\n"
     ]
    }
   ],
   "source": [
    "# Initialize model performance dictionary\n",
    "model_performance = {}\n",
    "\n",
    "for model_name, model in models.items():\n",
    "    try:\n",
    "        print(f\"Training {model_name}...\")\n",
    "\n",
    "        # Train the model\n",
    "        model.fit(X_train, y_train)\n",
    "\n",
    "        # Save the trained model\n",
    "        model_file_path = f'outputs/models/{model_name}_model.pkl'\n",
    "        os.makedirs(os.path.dirname(model_file_path), exist_ok=True)\n",
    "        joblib.dump(model, model_file_path)\n",
    "        print(f\"{model_name} saved as {model_file_path}\")\n",
    "\n",
    "        # Predictions\n",
    "        y_pred_train = model.predict(X_train)\n",
    "        y_pred_test = model.predict(X_test)\n",
    "\n",
    "        # Calculate accuracy and F1-score\n",
    "        train_accuracy = accuracy_score(y_train, y_pred_train)\n",
    "        test_accuracy = accuracy_score(y_test, y_pred_test)\n",
    "        train_f1 = f1_score(y_train, y_pred_train, average='weighted')\n",
    "        test_f1 = f1_score(y_test, y_pred_test, average='weighted')\n",
    "\n",
    "        # Store performance metrics\n",
    "        model_performance[model_name] = {\n",
    "            'train_accuracy': train_accuracy,\n",
    "            'test_accuracy': test_accuracy,\n",
    "            'train_f1': train_f1,\n",
    "            'test_f1': test_f1\n",
    "        }\n",
    "\n",
    "        print(f\"{model_name} -> Train Accuracy: {train_accuracy:.4f}, Test Accuracy: {test_accuracy:.4f}, Test F1: {test_f1:.4f}\")\n",
    "\n",
    "    except Exception as e:\n",
    "        print(f\"Error training {model_name}: {e}\")\n",
    "\n",
    "# Save feature names for alignment during evaluation\n",
    "joblib.dump(X_train.columns.tolist(), 'outputs/models/model_columns.pkl')\n",
    "print(\"Feature columns saved for alignment during evaluation.\")"
   ]
  },
  {
   "cell_type": "markdown",
   "metadata": {},
   "source": [
    "7. Hyperparameter Tuning"
   ]
  },
  {
   "cell_type": "code",
   "execution_count": 25,
   "metadata": {},
   "outputs": [
    {
     "name": "stdout",
     "output_type": "stream",
     "text": [
      "Best parameters found:  {'max_depth': None, 'min_samples_split': 2, 'n_estimators': 200}\n",
      "Best F1 score:  0.025806451612903226\n",
      "Best Random Forest model saved.\n"
     ]
    }
   ],
   "source": [
    "# Example: Hyperparameter tuning for Random Forest\n",
    "try:\n",
    "    param_grid = {\n",
    "        'n_estimators': [50, 100, 200],\n",
    "        'max_depth': [None, 10, 20],\n",
    "        'min_samples_split': [2, 5, 10]\n",
    "    }\n",
    "\n",
    "    grid_search = GridSearchCV(RandomForestClassifier(), param_grid, scoring='f1', cv=5)\n",
    "    grid_search.fit(X_train, y_train)\n",
    "\n",
    "    print(\"Best parameters found: \", grid_search.best_params_)\n",
    "    print(\"Best F1 score: \", grid_search.best_score_)\n",
    "\n",
    "    # Save the best model\n",
    "    best_rf_model = grid_search.best_estimator_\n",
    "    joblib.dump(best_rf_model, 'outputs/models/best_random_forest_model.pkl')\n",
    "    print(\"Best Random Forest model saved.\")\n",
    "except Exception as e:\n",
    "    print(f\"Error during hyperparameter tuning: {e}\")\n"
   ]
  },
  {
   "cell_type": "markdown",
   "metadata": {},
   "source": [
    "8. Summary of Results"
   ]
  },
  {
   "cell_type": "code",
   "execution_count": 15,
   "metadata": {},
   "outputs": [
    {
     "name": "stdout",
     "output_type": "stream",
     "text": [
      "                     train_accuracy  test_accuracy  train_f1   test_f1\n",
      "Logistic Regression        0.996000       0.997566  0.994004  0.996350\n",
      "Random Forest              0.999768       0.997334  0.999766  0.996234\n",
      "SVM                        0.996000       0.997566  0.994004  0.996350\n",
      "K-Nearest Neighbors        0.996000       0.997566  0.994004  0.996350\n",
      "Model performance summary saved to outputs/model_performance_summary.csv\n"
     ]
    }
   ],
   "source": [
    "# Summary of Results\n",
    "results_df = pd.DataFrame(model_performance).T\n",
    "print(results_df)\n",
    "\n",
    "# Save results to a CSV file\n",
    "results_path = 'outputs/model_performance_summary.csv'\n",
    "os.makedirs(os.path.dirname(results_path), exist_ok=True)\n",
    "results_df.to_csv(results_path)\n",
    "\n",
    "print(f\"Model performance summary saved to {results_path}\")"
   ]
  },
  {
   "cell_type": "markdown",
   "metadata": {},
   "source": [
    "9. Cross-Validation for Model Evaluation:\n",
    "\n",
    "Perform cross-validation to assess how well the model generalizes to new data. This involves dividing the dataset into multiple folds and training the model on different subsets, which provides a more robust evaluation of its performance. Use techniques like cross_val_score or GridSearchCV in sklearn to implement this.\n"
   ]
  },
  {
   "cell_type": "code",
   "execution_count": 16,
   "metadata": {},
   "outputs": [
    {
     "name": "stdout",
     "output_type": "stream",
     "text": [
      "Cross-Validation Accuracy Scores: [0.99608696 0.99608696 0.99594203 0.99594203 0.99594203]\n",
      "Mean CV Accuracy: 0.9960000000000001\n"
     ]
    }
   ],
   "source": [
    "from sklearn.model_selection import cross_val_score\n",
    "\n",
    "# Example: Cross-validation on Random Forest\n",
    "cv_model = RandomForestClassifier(n_estimators=100, max_depth=10)\n",
    "cv_scores = cross_val_score(cv_model, X_train, y_train, cv=5, scoring='accuracy')\n",
    "\n",
    "print(\"Cross-Validation Accuracy Scores:\", cv_scores)\n",
    "print(\"Mean CV Accuracy:\", cv_scores.mean())"
   ]
  },
  {
   "cell_type": "code",
   "execution_count": 9,
   "metadata": {},
   "outputs": [
    {
     "name": "stdout",
     "output_type": "stream",
     "text": [
      "Best Hyperparameters:  {'max_depth': 10, 'n_estimators': 200}\n"
     ]
    }
   ],
   "source": [
    "from sklearn.model_selection import GridSearchCV\n",
    "\n",
    "param_grid = {'n_estimators': [100, 200, 300], 'max_depth': [None, 10, 20]}\n",
    "grid_search = GridSearchCV(RandomForestClassifier(), param_grid, cv=5)\n",
    "grid_search.fit(X_train, y_train)\n",
    "print(\"Best Hyperparameters: \", grid_search.best_params_)"
   ]
  },
  {
   "cell_type": "code",
   "execution_count": 12,
   "metadata": {},
   "outputs": [
    {
     "name": "stdout",
     "output_type": "stream",
     "text": [
      "              precision    recall  f1-score   support\n",
      "\n",
      "         0.0       1.00      1.00      1.00      8606\n",
      "         1.0       0.00      0.00      0.00        21\n",
      "\n",
      "    accuracy                           1.00      8627\n",
      "   macro avg       0.50      0.50      0.50      8627\n",
      "weighted avg       1.00      1.00      1.00      8627\n",
      "\n"
     ]
    },
    {
     "name": "stderr",
     "output_type": "stream",
     "text": [
      "/workspace/.pyenv_mirror/user/current/lib/python3.12/site-packages/sklearn/metrics/_classification.py:1531: UndefinedMetricWarning: Precision is ill-defined and being set to 0.0 in labels with no predicted samples. Use `zero_division` parameter to control this behavior.\n",
      "  _warn_prf(average, modifier, f\"{metric.capitalize()} is\", len(result))\n",
      "/workspace/.pyenv_mirror/user/current/lib/python3.12/site-packages/sklearn/metrics/_classification.py:1531: UndefinedMetricWarning: Precision is ill-defined and being set to 0.0 in labels with no predicted samples. Use `zero_division` parameter to control this behavior.\n",
      "  _warn_prf(average, modifier, f\"{metric.capitalize()} is\", len(result))\n",
      "/workspace/.pyenv_mirror/user/current/lib/python3.12/site-packages/sklearn/metrics/_classification.py:1531: UndefinedMetricWarning: Precision is ill-defined and being set to 0.0 in labels with no predicted samples. Use `zero_division` parameter to control this behavior.\n",
      "  _warn_prf(average, modifier, f\"{metric.capitalize()} is\", len(result))\n"
     ]
    }
   ],
   "source": [
    "from sklearn.metrics import classification_report\n",
    "\n",
    "y_pred = model.predict(X_test)\n",
    "print(classification_report(y_test, y_pred))"
   ]
  }
 ],
 "metadata": {
  "kernelspec": {
   "display_name": "Python 3",
   "language": "python",
   "name": "python3"
  },
  "language_info": {
   "codemirror_mode": {
    "name": "ipython",
    "version": 3
   },
   "file_extension": ".py",
   "mimetype": "text/x-python",
   "name": "python",
   "nbconvert_exporter": "python",
   "pygments_lexer": "ipython3",
   "version": "3.12.7"
  }
 },
 "nbformat": 4,
 "nbformat_minor": 2
}
