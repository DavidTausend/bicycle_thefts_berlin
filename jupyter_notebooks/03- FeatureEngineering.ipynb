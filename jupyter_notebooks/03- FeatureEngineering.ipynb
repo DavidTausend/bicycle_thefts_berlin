{
 "cells": [
  {
   "cell_type": "markdown",
   "metadata": {},
   "source": [
    "# Feature Engineering Notebook\n",
    "\n",
    "## Objectives\n",
    "- Handle Categorical Variables: Convert categorical variables into numerical formats (one-hot encoding, label encoding, etc.).\n",
    "- Scale Numerical Variables: Apply scaling to numerical features for model compatibility.\n",
    "- Create Interaction Features: Optionally create interaction features to enhance model performance.\n",
    "- Handle Date/Time Features: Extract useful components from date/time features like year, month, and day.\n",
    "- Generate Polynomial Features: Optionally create polynomial features for feature interactions.\n",
    "\n",
    "## Inputs\n",
    "- outputs/datasets/cleaned/TrainSetCleaned.csv: Cleaned training set.\n",
    "- outputs/datasets/cleaned/TestSetCleaned.csv: Cleaned test set.\n",
    "\n",
    "## Outputs\n",
    "outputs/datasets/featured/TrainSet_Featured.csv: Training set with engineered features.\n",
    "outputs/datasets/featured/TestSet_Featured.csv: Test set with engineered features."
   ]
  },
  {
   "cell_type": "markdown",
   "metadata": {},
   "source": [
    "1. Import Libraries"
   ]
  },
  {
   "cell_type": "code",
   "execution_count": 1,
   "metadata": {},
   "outputs": [],
   "source": [
    "import pandas as pd\n",
    "from sklearn.preprocessing import StandardScaler, OneHotEncoder\n",
    "from sklearn.compose import ColumnTransformer\n",
    "from sklearn.pipeline import Pipeline\n",
    "from sklearn.preprocessing import PolynomialFeatures\n",
    "import os"
   ]
  },
  {
   "cell_type": "markdown",
   "metadata": {},
   "source": [
    "2. Change Working Directory"
   ]
  },
  {
   "cell_type": "code",
   "execution_count": 2,
   "metadata": {},
   "outputs": [
    {
     "name": "stdout",
     "output_type": "stream",
     "text": [
      "Current directory: /workspace/bicycle_thefts_berlin/jupyter_notebooks\n",
      "New working directory: /workspace/bicycle_thefts_berlin\n"
     ]
    }
   ],
   "source": [
    "current_dir = os.getcwd()\n",
    "print(f\"Current directory: {current_dir}\")\n",
    "\n",
    "os.chdir(os.path.dirname(current_dir))\n",
    "print(f\"New working directory: {os.getcwd()}\")"
   ]
  },
  {
   "cell_type": "markdown",
   "metadata": {},
   "source": [
    "3. Load Cleaned Data"
   ]
  },
  {
   "cell_type": "code",
   "execution_count": 3,
   "metadata": {},
   "outputs": [],
   "source": [
    "train_data_path = 'outputs/datasets/cleaned/TrainSetCleaned.csv'\n",
    "test_data_path = 'outputs/datasets/cleaned/TestSetCleaned.csv'\n",
    "\n",
    "TrainSet = pd.read_csv(train_data_path)\n",
    "TestSet = pd.read_csv(test_data_path)"
   ]
  },
  {
   "cell_type": "markdown",
   "metadata": {},
   "source": [
    "4. Handle Categorical Variables"
   ]
  },
  {
   "cell_type": "code",
   "execution_count": 23,
   "metadata": {},
   "outputs": [],
   "source": [
    "categorical_columns = ['ART_DES_FAHRRADS', 'DELIKT']\n",
    "\n",
    "# OneHotEncoding for categorical variables\n",
    "TrainSet_encoded = pd.get_dummies(TrainSet, columns=categorical_columns, drop_first=True)\n",
    "TestSet_encoded = pd.get_dummies(TestSet, columns=categorical_columns, drop_first=True)\n",
    "\n",
    "TrainSet.columns = TrainSet.columns.str.strip()\n",
    "TestSet.columns = TestSet.columns.str.strip()"
   ]
  },
  {
   "cell_type": "markdown",
   "metadata": {},
   "source": [
    "5. Scale Numerical Features"
   ]
  },
  {
   "cell_type": "code",
   "execution_count": 28,
   "metadata": {},
   "outputs": [],
   "source": [
    "numerical_columns = ['TATZEIT_ANFANG_STUNDE']\n",
    "\n",
    "scaler = StandardScaler()\n",
    "\n",
    "TrainSet_encoded[numerical_columns] = scaler.fit_transform(TrainSet_encoded[numerical_columns])\n",
    "TestSet_encoded[numerical_columns] = scaler.transform(TestSet_encoded[numerical_columns])"
   ]
  },
  {
   "cell_type": "markdown",
   "metadata": {},
   "source": [
    "6. Feature Engineering on DateTime Columns"
   ]
  },
  {
   "cell_type": "code",
   "execution_count": 29,
   "metadata": {},
   "outputs": [],
   "source": [
    "TrainSet_encoded['TATZEIT_ANFANG_YEAR'] = pd.to_datetime(TrainSet_encoded['TATZEIT_ANFANG_DATUM']).dt.year\n",
    "TestSet_encoded['TATZEIT_ANFANG_YEAR'] = pd.to_datetime(TestSet_encoded['TATZEIT_ANFANG_DATUM']).dt.year\n",
    "\n",
    "TrainSet_encoded['TATZEIT_ANFANG_MONTH'] = pd.to_datetime(TrainSet_encoded['TATZEIT_ANFANG_DATUM']).dt.month\n",
    "TestSet_encoded['TATZEIT_ANFANG_MONTH'] = pd.to_datetime(TestSet_encoded['TATZEIT_ANFANG_DATUM']).dt.month\n",
    "\n",
    "# Drop the original datetime columns\n",
    "TrainSet_encoded.drop(['TATZEIT_ANFANG_DATUM'], axis=1, inplace=True)\n",
    "TestSet_encoded.drop(['TATZEIT_ANFANG_DATUM'], axis=1, inplace=True)"
   ]
  },
  {
   "cell_type": "markdown",
   "metadata": {},
   "source": [
    "7. Create Polynomial Features"
   ]
  },
  {
   "cell_type": "code",
   "execution_count": 30,
   "metadata": {},
   "outputs": [],
   "source": [
    "poly = PolynomialFeatures(degree=2, interaction_only=False, include_bias=False)\n",
    "\n",
    "# Apply polynomial features on numerical columns\n",
    "TrainSet_poly = poly.fit_transform(TrainSet_encoded[numerical_columns])\n",
    "TestSet_poly = poly.transform(TestSet_encoded[numerical_columns])"
   ]
  },
  {
   "cell_type": "markdown",
   "metadata": {},
   "source": [
    "8. Save the Feature-Engineered Datasets"
   ]
  },
  {
   "cell_type": "code",
   "execution_count": 31,
   "metadata": {},
   "outputs": [
    {
     "name": "stdout",
     "output_type": "stream",
     "text": [
      "Feature Engineering completed and datasets saved.\n"
     ]
    }
   ],
   "source": [
    "os.makedirs('outputs/datasets/featured', exist_ok=True)\n",
    "\n",
    "TrainSet_encoded.to_csv('outputs/datasets/featured/TrainSet_Featured.csv', index=False)\n",
    "TestSet_encoded.to_csv('outputs/datasets/featured/TestSet_Featured.csv', index=False)\n",
    "\n",
    "print(\"Feature Engineering completed and datasets saved.\")"
   ]
  }
 ],
 "metadata": {
  "kernelspec": {
   "display_name": "Python 3",
   "language": "python",
   "name": "python3"
  },
  "language_info": {
   "codemirror_mode": {
    "name": "ipython",
    "version": 3
   },
   "file_extension": ".py",
   "mimetype": "text/x-python",
   "name": "python",
   "nbconvert_exporter": "python",
   "pygments_lexer": "ipython3",
   "version": "3.12.6"
  }
 },
 "nbformat": 4,
 "nbformat_minor": 2
}
